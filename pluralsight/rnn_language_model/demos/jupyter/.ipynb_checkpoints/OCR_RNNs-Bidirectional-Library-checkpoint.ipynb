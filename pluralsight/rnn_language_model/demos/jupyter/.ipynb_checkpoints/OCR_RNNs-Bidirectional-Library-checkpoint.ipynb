{
 "cells": [
  {
   "cell_type": "markdown",
   "metadata": {
    "deletable": true,
    "editable": true
   },
   "source": [
    "### Optical character recognition using RNNs"
   ]
  },
  {
   "cell_type": "code",
   "execution_count": 1,
   "metadata": {
    "collapsed": false,
    "deletable": true,
    "editable": true
   },
   "outputs": [
    {
     "name": "stdout",
     "output_type": "stream",
     "text": [
      "Requirement already up-to-date: numpy in /usr/local/lib/python2.7/site-packages\n",
      "Requirement already up-to-date: tensorflow in /usr/local/lib/python2.7/site-packages\n",
      "Requirement already up-to-date: six>=1.10.0 in /usr/local/lib/python2.7/site-packages (from tensorflow)\n",
      "Requirement already up-to-date: numpy>=1.12.1 in /usr/local/lib/python2.7/site-packages (from tensorflow)\n",
      "Requirement already up-to-date: tensorflow-tensorboard<0.5.0,>=0.4.0rc1 in /usr/local/lib/python2.7/site-packages (from tensorflow)\n",
      "Requirement already up-to-date: mock>=2.0.0 in /usr/local/lib/python2.7/site-packages (from tensorflow)\n",
      "Requirement already up-to-date: enum34>=1.1.6 in /usr/local/lib/python2.7/site-packages (from tensorflow)\n",
      "Requirement already up-to-date: protobuf>=3.3.0 in /usr/local/lib/python2.7/site-packages (from tensorflow)\n",
      "Requirement already up-to-date: wheel in /usr/local/lib/python2.7/site-packages (from tensorflow)\n",
      "Requirement already up-to-date: backports.weakref>=1.0rc1 in /usr/local/lib/python2.7/site-packages (from tensorflow)\n",
      "Requirement already up-to-date: werkzeug>=0.11.10 in /usr/local/lib/python2.7/site-packages (from tensorflow-tensorboard<0.5.0,>=0.4.0rc1->tensorflow)\n",
      "Requirement already up-to-date: markdown>=2.6.8 in /usr/local/lib/python2.7/site-packages (from tensorflow-tensorboard<0.5.0,>=0.4.0rc1->tensorflow)\n",
      "Requirement already up-to-date: futures>=3.1.1; python_version < \"3.2\" in /usr/local/lib/python2.7/site-packages (from tensorflow-tensorboard<0.5.0,>=0.4.0rc1->tensorflow)\n",
      "Requirement already up-to-date: bleach==1.5.0 in /usr/local/lib/python2.7/site-packages (from tensorflow-tensorboard<0.5.0,>=0.4.0rc1->tensorflow)\n",
      "Requirement already up-to-date: html5lib==0.9999999 in /usr/local/lib/python2.7/site-packages (from tensorflow-tensorboard<0.5.0,>=0.4.0rc1->tensorflow)\n",
      "Requirement already up-to-date: funcsigs>=1; python_version < \"3.3\" in /usr/local/lib/python2.7/site-packages (from mock>=2.0.0->tensorflow)\n",
      "Requirement already up-to-date: pbr>=0.11 in /usr/local/lib/python2.7/site-packages (from mock>=2.0.0->tensorflow)\n",
      "Requirement already up-to-date: setuptools in /usr/local/lib/python2.7/site-packages (from protobuf>=3.3.0->tensorflow)\n"
     ]
    }
   ],
   "source": [
    "!pip install --upgrade numpy\n",
    "!pip install --upgrade tensorflow"
   ]
  },
  {
   "cell_type": "code",
   "execution_count": 2,
   "metadata": {
    "collapsed": true,
    "deletable": true,
    "editable": true
   },
   "outputs": [],
   "source": [
    "from __future__ import absolute_import\n",
    "from __future__ import division\n",
    "from __future__ import print_function"
   ]
  },
  {
   "cell_type": "code",
   "execution_count": 3,
   "metadata": {
    "collapsed": false,
    "deletable": true,
    "editable": true
   },
   "outputs": [],
   "source": [
    "import os\n",
    "import gzip\n",
    "import csv"
   ]
  },
  {
   "cell_type": "code",
   "execution_count": 4,
   "metadata": {
    "collapsed": true,
    "deletable": true,
    "editable": true
   },
   "outputs": [],
   "source": [
    "import numpy as np\n",
    "import tensorflow as tf"
   ]
  },
  {
   "cell_type": "code",
   "execution_count": 5,
   "metadata": {
    "collapsed": true,
    "deletable": true,
    "editable": true
   },
   "outputs": [],
   "source": [
    "%matplotlib inline\n",
    "\n",
    "import matplotlib\n",
    "import matplotlib.pyplot as plt"
   ]
  },
  {
   "cell_type": "code",
   "execution_count": 6,
   "metadata": {
    "collapsed": true,
    "deletable": true,
    "editable": true
   },
   "outputs": [],
   "source": [
    "from six.moves import urllib"
   ]
  },
  {
   "cell_type": "code",
   "execution_count": 7,
   "metadata": {
    "collapsed": false,
    "deletable": true,
    "editable": true
   },
   "outputs": [
    {
     "name": "stdout",
     "output_type": "stream",
     "text": [
      "1.13.3\n",
      "1.4.1\n"
     ]
    }
   ],
   "source": [
    "print(np.__version__)\n",
    "print(tf.__version__)"
   ]
  },
  {
   "cell_type": "code",
   "execution_count": 64,
   "metadata": {
    "collapsed": true,
    "deletable": true,
    "editable": true
   },
   "outputs": [],
   "source": [
    "URL_PATH = 'http://ai.stanford.edu/~btaskar/ocr/letter.data.gz'\n",
    "DOWNLOADED_FILENAME = 'letter.data.gz'\n",
    "\n",
    "def download_data():\n",
    "    if not os.path.exists(DOWNLOADED_FILENAME):\n",
    "        filename, _ = urllib.request.urlretrieve(URL_PATH, DOWNLOADED_FILENAME)\n",
    "    \n",
    "    print('Found and verified file from this path: ', URL_PATH)\n",
    "    print('Downloaded file: ', DOWNLOADED_FILENAME)"
   ]
  },
  {
   "cell_type": "code",
   "execution_count": 65,
   "metadata": {
    "collapsed": false,
    "deletable": true,
    "editable": true
   },
   "outputs": [
    {
     "name": "stdout",
     "output_type": "stream",
     "text": [
      "Found and verified file from this path:  http://ai.stanford.edu/~btaskar/ocr/letter.data.gz\n",
      "Downloaded file:  letter.data.gz\n"
     ]
    }
   ],
   "source": [
    "download_data()"
   ]
  },
  {
   "cell_type": "code",
   "execution_count": 66,
   "metadata": {
    "collapsed": true,
    "deletable": true,
    "editable": true
   },
   "outputs": [],
   "source": [
    "def read_lines():\n",
    "    with gzip.open(DOWNLOADED_FILENAME, 'rt') as f:\n",
    "        reader = csv.reader(f, delimiter='\\t')\n",
    "        lines = list(reader)\n",
    "\n",
    "        return lines"
   ]
  },
  {
   "cell_type": "code",
   "execution_count": 67,
   "metadata": {
    "collapsed": true,
    "deletable": true,
    "editable": true
   },
   "outputs": [],
   "source": [
    "lines = read_lines()"
   ]
  },
  {
   "cell_type": "markdown",
   "metadata": {
    "deletable": true,
    "editable": true
   },
   "source": [
    "### Format of every line\n",
    "\n",
    "* id\n",
    "* letter\n",
    "* next_id\n",
    "* word_id\n",
    "* position\n",
    "* fold\n",
    "* 16x8 columns of pixel values"
   ]
  },
  {
   "cell_type": "code",
   "execution_count": 68,
   "metadata": {
    "collapsed": false,
    "deletable": true,
    "editable": true
   },
   "outputs": [
    {
     "data": {
      "text/plain": [
       "['1', 'o', '2', '1', '1', '0', '0', '0']"
      ]
     },
     "execution_count": 68,
     "metadata": {},
     "output_type": "execute_result"
    }
   ],
   "source": [
    "lines[0][:8]"
   ]
  },
  {
   "cell_type": "code",
   "execution_count": 69,
   "metadata": {
    "collapsed": false,
    "deletable": true,
    "editable": true
   },
   "outputs": [
    {
     "data": {
      "text/plain": [
       "52152"
      ]
     },
     "execution_count": 69,
     "metadata": {},
     "output_type": "execute_result"
    }
   ],
   "source": [
    "len(lines)"
   ]
  },
  {
   "cell_type": "code",
   "execution_count": 70,
   "metadata": {
    "collapsed": true,
    "deletable": true,
    "editable": true
   },
   "outputs": [],
   "source": [
    "def get_features_labels(lines):\n",
    "    lines = sorted(lines, key=lambda x: int(x[0]))\n",
    "    data, target = [], []\n",
    "    \n",
    "    next_id = -1\n",
    "    \n",
    "    word = []\n",
    "    word_pixels = []\n",
    "\n",
    "    for line in lines:\n",
    "        next_id = int(line[2]) # The index for the next_id column\n",
    "\n",
    "        pixels = np.array([int(x) for x in line[6:134]])\n",
    "        pixels = pixels.reshape((16, 8))\n",
    "        \n",
    "        word_pixels.append(pixels)\n",
    "        word.append(line[1])\n",
    "        \n",
    "        if next_id == -1:\n",
    "            data.append(word_pixels)\n",
    "            target.append(word)\n",
    "\n",
    "            word = []\n",
    "            word_pixels = []\n",
    "\n",
    "\n",
    "    return data, target"
   ]
  },
  {
   "cell_type": "code",
   "execution_count": 71,
   "metadata": {
    "collapsed": true,
    "deletable": true,
    "editable": true
   },
   "outputs": [],
   "source": [
    "data, target = get_features_labels(lines)"
   ]
  },
  {
   "cell_type": "code",
   "execution_count": 72,
   "metadata": {
    "collapsed": true,
    "deletable": true,
    "editable": true
   },
   "outputs": [],
   "source": [
    "def pad_features_labels(data, target):    \n",
    "    max_length = max(len(x) for x in target)\n",
    "    padding = np.zeros((16, 8))\n",
    "\n",
    "    data = [x + ([padding] * (max_length - len(x))) for x in data]\n",
    "    target = [x + ([''] * (max_length - len(x))) for x in target]\n",
    "    \n",
    "    return np.array(data), np.array(target)"
   ]
  },
  {
   "cell_type": "code",
   "execution_count": 73,
   "metadata": {
    "collapsed": true,
    "deletable": true,
    "editable": true
   },
   "outputs": [],
   "source": [
    "padded_data, padded_target = pad_features_labels(data, target)"
   ]
  },
  {
   "cell_type": "code",
   "execution_count": 74,
   "metadata": {
    "collapsed": false,
    "deletable": true,
    "editable": true
   },
   "outputs": [
    {
     "data": {
      "text/plain": [
       "array([['o', 'm', 'm', 'a', 'n', 'd', 'i', 'n', 'g', '', '', '', '', ''],\n",
       "       ['o', 'm', 'm', 'a', 'n', 'd', 'i', 'n', 'g', '', '', '', '', ''],\n",
       "       ['o', 'm', 'm', 'a', 'n', 'd', 'i', 'n', 'g', '', '', '', '', ''],\n",
       "       ['o', 'm', 'm', 'a', 'n', 'd', 'i', 'n', 'g', '', '', '', '', ''],\n",
       "       ['o', 'm', 'm', 'a', 'n', 'd', 'i', 'n', 'g', '', '', '', '', ''],\n",
       "       ['o', 'm', 'm', 'a', 'n', 'd', 'i', 'n', 'g', '', '', '', '', ''],\n",
       "       ['o', 'm', 'm', 'a', 'n', 'd', 'i', 'n', 'g', '', '', '', '', ''],\n",
       "       ['o', 'm', 'm', 'a', 'n', 'd', 'i', 'n', 'g', '', '', '', '', ''],\n",
       "       ['o', 'm', 'm', 'a', 'n', 'd', 'i', 'n', 'g', '', '', '', '', ''],\n",
       "       ['o', 'm', 'm', 'a', 'n', 'd', 'i', 'n', 'g', '', '', '', '', '']],\n",
       "      dtype='|S1')"
      ]
     },
     "execution_count": 74,
     "metadata": {},
     "output_type": "execute_result"
    }
   ],
   "source": [
    "padded_target[:10]"
   ]
  },
  {
   "cell_type": "markdown",
   "metadata": {
    "deletable": true,
    "editable": true
   },
   "source": [
    "#### The length of each sequence\n",
    "\n",
    "We've padded all words so that their lengths are all equal to the length of the longest word"
   ]
  },
  {
   "cell_type": "code",
   "execution_count": 75,
   "metadata": {
    "collapsed": true,
    "deletable": true,
    "editable": true
   },
   "outputs": [],
   "source": [
    "sequence_length = len(padded_target[0])"
   ]
  },
  {
   "cell_type": "code",
   "execution_count": 76,
   "metadata": {
    "collapsed": false,
    "deletable": true,
    "editable": true
   },
   "outputs": [
    {
     "data": {
      "text/plain": [
       "14"
      ]
     },
     "execution_count": 76,
     "metadata": {},
     "output_type": "execute_result"
    }
   ],
   "source": [
    "sequence_length"
   ]
  },
  {
   "cell_type": "code",
   "execution_count": 77,
   "metadata": {
    "collapsed": false,
    "deletable": true,
    "editable": true
   },
   "outputs": [
    {
     "data": {
      "text/plain": [
       "(6877, 14, 16, 8)"
      ]
     },
     "execution_count": 77,
     "metadata": {},
     "output_type": "execute_result"
    }
   ],
   "source": [
    "padded_data.shape"
   ]
  },
  {
   "cell_type": "code",
   "execution_count": 78,
   "metadata": {
    "collapsed": false,
    "deletable": true,
    "editable": true
   },
   "outputs": [
    {
     "data": {
      "text/plain": [
       "(6877, 14, -1)"
      ]
     },
     "execution_count": 78,
     "metadata": {},
     "output_type": "execute_result"
    }
   ],
   "source": [
    "padded_data.shape[:2] + (-1,)"
   ]
  },
  {
   "cell_type": "code",
   "execution_count": 79,
   "metadata": {
    "collapsed": false,
    "deletable": true,
    "editable": true
   },
   "outputs": [],
   "source": [
    "reshaped_data = padded_data.reshape(padded_data.shape[:2] + (-1,))"
   ]
  },
  {
   "cell_type": "code",
   "execution_count": 80,
   "metadata": {
    "collapsed": false,
    "deletable": true,
    "editable": true
   },
   "outputs": [
    {
     "data": {
      "text/plain": [
       "(6877, 14, 128)"
      ]
     },
     "execution_count": 80,
     "metadata": {},
     "output_type": "execute_result"
    }
   ],
   "source": [
    "reshaped_data.shape"
   ]
  },
  {
   "cell_type": "code",
   "execution_count": 81,
   "metadata": {
    "collapsed": false,
    "deletable": true,
    "editable": true
   },
   "outputs": [
    {
     "data": {
      "text/plain": [
       "(6877, 14)"
      ]
     },
     "execution_count": 81,
     "metadata": {},
     "output_type": "execute_result"
    }
   ],
   "source": [
    "padded_target.shape"
   ]
  },
  {
   "cell_type": "code",
   "execution_count": 82,
   "metadata": {
    "collapsed": false,
    "deletable": true,
    "editable": true
   },
   "outputs": [
    {
     "data": {
      "text/plain": [
       "(6877, 14, 26)"
      ]
     },
     "execution_count": 82,
     "metadata": {},
     "output_type": "execute_result"
    }
   ],
   "source": [
    "padded_target.shape + (26,)"
   ]
  },
  {
   "cell_type": "code",
   "execution_count": 83,
   "metadata": {
    "collapsed": false,
    "deletable": true,
    "editable": true
   },
   "outputs": [],
   "source": [
    "one_hot_target = np.zeros(padded_target.shape + (26,))"
   ]
  },
  {
   "cell_type": "code",
   "execution_count": 84,
   "metadata": {
    "collapsed": false,
    "deletable": true,
    "editable": true
   },
   "outputs": [],
   "source": [
    "for index, letter in np.ndenumerate(padded_target):\n",
    "    if letter:\n",
    "        one_hot_target[index][ord(letter) - ord('a')] = 1"
   ]
  },
  {
   "cell_type": "markdown",
   "metadata": {
    "deletable": true,
    "editable": true
   },
   "source": [
    "#### One-hot representation of the letter 'o'\n",
    "\n",
    "* The letter 'o' represented by a 1 at the 14th index \n",
    "* Index positions start at 0"
   ]
  },
  {
   "cell_type": "code",
   "execution_count": 85,
   "metadata": {
    "collapsed": false,
    "deletable": true,
    "editable": true
   },
   "outputs": [
    {
     "data": {
      "text/plain": [
       "array([ 0.,  0.,  0.,  0.,  0.,  0.,  0.,  0.,  0.,  0.,  0.,  0.,  0.,\n",
       "        0.,  1.,  0.,  0.,  0.,  0.,  0.,  0.,  0.,  0.,  0.,  0.,  0.])"
      ]
     },
     "execution_count": 85,
     "metadata": {},
     "output_type": "execute_result"
    }
   ],
   "source": [
    "one_hot_target[0][0]"
   ]
  },
  {
   "cell_type": "code",
   "execution_count": 86,
   "metadata": {
    "collapsed": false,
    "deletable": true,
    "editable": true
   },
   "outputs": [],
   "source": [
    "shuffled_indices = np.random.permutation(len(reshaped_data))\n",
    "\n",
    "shuffled_data = reshaped_data[shuffled_indices]\n",
    "shuffled_target = one_hot_target[shuffled_indices]"
   ]
  },
  {
   "cell_type": "code",
   "execution_count": 87,
   "metadata": {
    "collapsed": true,
    "deletable": true,
    "editable": true
   },
   "outputs": [],
   "source": [
    "split = int(0.66 * len(shuffled_data))\n",
    "\n",
    "train_data = shuffled_data[:split]\n",
    "train_target = shuffled_target[:split]\n",
    "\n",
    "test_data = shuffled_data[split:]\n",
    "test_target = shuffled_target[split:]"
   ]
  },
  {
   "cell_type": "code",
   "execution_count": 88,
   "metadata": {
    "collapsed": false,
    "deletable": true,
    "editable": true
   },
   "outputs": [
    {
     "data": {
      "text/plain": [
       "(4538, 14, 128)"
      ]
     },
     "execution_count": 88,
     "metadata": {},
     "output_type": "execute_result"
    }
   ],
   "source": [
    "train_data.shape"
   ]
  },
  {
   "cell_type": "code",
   "execution_count": 89,
   "metadata": {
    "collapsed": true,
    "deletable": true,
    "editable": true
   },
   "outputs": [],
   "source": [
    "_, num_steps, num_inputs = train_data.shape"
   ]
  },
  {
   "cell_type": "code",
   "execution_count": 90,
   "metadata": {
    "collapsed": false,
    "deletable": true,
    "editable": true
   },
   "outputs": [
    {
     "data": {
      "text/plain": [
       "(4538, 14, 26)"
      ]
     },
     "execution_count": 90,
     "metadata": {},
     "output_type": "execute_result"
    }
   ],
   "source": [
    "train_target.shape"
   ]
  },
  {
   "cell_type": "code",
   "execution_count": 91,
   "metadata": {
    "collapsed": true,
    "deletable": true,
    "editable": true
   },
   "outputs": [],
   "source": [
    "num_classes = train_target.shape[2]"
   ]
  },
  {
   "cell_type": "code",
   "execution_count": 92,
   "metadata": {
    "collapsed": true,
    "deletable": true,
    "editable": true
   },
   "outputs": [],
   "source": [
    "tf.reset_default_graph()"
   ]
  },
  {
   "cell_type": "code",
   "execution_count": 93,
   "metadata": {
    "collapsed": true,
    "deletable": true,
    "editable": true
   },
   "outputs": [],
   "source": [
    "X = tf.placeholder(tf.float64, [None, num_steps, num_inputs])\n",
    "\n",
    "y = tf.placeholder(tf.float64, [None, num_steps, num_classes])"
   ]
  },
  {
   "cell_type": "markdown",
   "metadata": {
    "deletable": true,
    "editable": true
   },
   "source": [
    "#### Sequence length calculation"
   ]
  },
  {
   "cell_type": "code",
   "execution_count": 94,
   "metadata": {
    "collapsed": false,
    "deletable": true,
    "editable": true
   },
   "outputs": [],
   "source": [
    "used = tf.sign(tf.reduce_max(tf.abs(X), reduction_indices=2))\n",
    "\n",
    "length = tf.reduce_sum(used, reduction_indices=1)\n",
    "sequence_length = tf.cast(length, tf.int64)"
   ]
  },
  {
   "cell_type": "code",
   "execution_count": 95,
   "metadata": {
    "collapsed": false,
    "deletable": true,
    "editable": true
   },
   "outputs": [
    {
     "data": {
      "text/plain": [
       "<tf.Tensor 'Cast:0' shape=(?,) dtype=int64>"
      ]
     },
     "execution_count": 95,
     "metadata": {},
     "output_type": "execute_result"
    }
   ],
   "source": [
    "sequence_length"
   ]
  },
  {
   "cell_type": "markdown",
   "metadata": {
    "deletable": true,
    "editable": true
   },
   "source": [
    "#### RNN for training and prediction"
   ]
  },
  {
   "cell_type": "code",
   "execution_count": 96,
   "metadata": {
    "collapsed": true,
    "deletable": true,
    "editable": true
   },
   "outputs": [],
   "source": [
    "num_neurons = 300"
   ]
  },
  {
   "cell_type": "code",
   "execution_count": 97,
   "metadata": {
    "collapsed": false,
    "deletable": true,
    "editable": true
   },
   "outputs": [],
   "source": [
    "output, _ = tf.nn.bidirectional_dynamic_rnn(tf.nn.rnn_cell.GRUCell(num_neurons), \n",
    "                                            tf.nn.rnn_cell.GRUCell(num_neurons),\n",
    "                                            X,\n",
    "                                            dtype=tf.float64, sequence_length=sequence_length)"
   ]
  },
  {
   "cell_type": "code",
   "execution_count": 98,
   "metadata": {
    "collapsed": false,
    "deletable": true,
    "editable": true
   },
   "outputs": [
    {
     "data": {
      "text/plain": [
       "(<tf.Tensor 'bidirectional_rnn/fw/fw/transpose:0' shape=(?, 14, 300) dtype=float64>,\n",
       " <tf.Tensor 'ReverseSequence:0' shape=(?, 14, 300) dtype=float64>)"
      ]
     },
     "execution_count": 98,
     "metadata": {},
     "output_type": "execute_result"
    }
   ],
   "source": [
    "output"
   ]
  },
  {
   "cell_type": "code",
   "execution_count": 99,
   "metadata": {
    "collapsed": false,
    "deletable": true,
    "editable": true
   },
   "outputs": [],
   "source": [
    "output = tf.concat([output[0], output[1]], axis=2)"
   ]
  },
  {
   "cell_type": "code",
   "execution_count": 100,
   "metadata": {
    "collapsed": false,
    "deletable": true,
    "editable": true
   },
   "outputs": [
    {
     "data": {
      "text/plain": [
       "TensorShape([Dimension(None), Dimension(14), Dimension(600)])"
      ]
     },
     "execution_count": 100,
     "metadata": {},
     "output_type": "execute_result"
    }
   ],
   "source": [
    "output.shape"
   ]
  },
  {
   "cell_type": "markdown",
   "metadata": {
    "deletable": true,
    "editable": true
   },
   "source": [
    "#### Shared softmax layer"
   ]
  },
  {
   "cell_type": "code",
   "execution_count": 101,
   "metadata": {
    "collapsed": true,
    "deletable": true,
    "editable": true
   },
   "outputs": [],
   "source": [
    "weight = tf.Variable(tf.truncated_normal([num_neurons * 2, num_classes], stddev=0.01, dtype=tf.float64))"
   ]
  },
  {
   "cell_type": "code",
   "execution_count": 102,
   "metadata": {
    "collapsed": false,
    "deletable": true,
    "editable": true
   },
   "outputs": [],
   "source": [
    "bias = tf.Variable(tf.constant(0.1, shape=[num_classes], dtype=tf.float64))"
   ]
  },
  {
   "cell_type": "code",
   "execution_count": 103,
   "metadata": {
    "collapsed": false,
    "deletable": true,
    "editable": true
   },
   "outputs": [],
   "source": [
    "flattened_output = tf.reshape(output, [-1, num_neurons * 2])"
   ]
  },
  {
   "cell_type": "code",
   "execution_count": 104,
   "metadata": {
    "collapsed": false,
    "deletable": true,
    "editable": true
   },
   "outputs": [
    {
     "data": {
      "text/plain": [
       "<tf.Tensor 'Reshape:0' shape=(?, 600) dtype=float64>"
      ]
     },
     "execution_count": 104,
     "metadata": {},
     "output_type": "execute_result"
    }
   ],
   "source": [
    "flattened_output"
   ]
  },
  {
   "cell_type": "code",
   "execution_count": 105,
   "metadata": {
    "collapsed": false,
    "deletable": true,
    "editable": true
   },
   "outputs": [],
   "source": [
    "logits = tf.matmul(flattened_output, weight) + bias"
   ]
  },
  {
   "cell_type": "code",
   "execution_count": 106,
   "metadata": {
    "collapsed": true,
    "deletable": true,
    "editable": true
   },
   "outputs": [],
   "source": [
    "logits_reshaped = tf.reshape(logits, [-1, num_steps, num_classes])"
   ]
  },
  {
   "cell_type": "markdown",
   "metadata": {
    "deletable": true,
    "editable": true
   },
   "source": [
    "#### Cost calculation"
   ]
  },
  {
   "cell_type": "code",
   "execution_count": 107,
   "metadata": {
    "collapsed": false,
    "deletable": true,
    "editable": true
   },
   "outputs": [],
   "source": [
    "cross_entropy = tf.nn.softmax_cross_entropy_with_logits(logits=logits, labels=y)"
   ]
  },
  {
   "cell_type": "code",
   "execution_count": 108,
   "metadata": {
    "collapsed": true,
    "deletable": true,
    "editable": true
   },
   "outputs": [],
   "source": [
    "loss = tf.reduce_mean(cross_entropy)"
   ]
  },
  {
   "cell_type": "markdown",
   "metadata": {
    "deletable": true,
    "editable": true
   },
   "source": [
    "#### Error calculation"
   ]
  },
  {
   "cell_type": "code",
   "execution_count": 109,
   "metadata": {
    "collapsed": false,
    "deletable": true,
    "editable": true
   },
   "outputs": [],
   "source": [
    "mistakes = tf.not_equal(\n",
    "            tf.argmax(y, 2), tf.argmax(logits_reshaped, 2))\n",
    "mistakes = tf.cast(mistakes, tf.float64)\n",
    "mask = tf.sign(tf.reduce_max(tf.abs(y), reduction_indices=2))\n",
    "mistakes *= mask"
   ]
  },
  {
   "cell_type": "code",
   "execution_count": 110,
   "metadata": {
    "collapsed": true,
    "deletable": true,
    "editable": true
   },
   "outputs": [],
   "source": [
    "mistakes = tf.reduce_sum(mistakes, reduction_indices=1)\n",
    "mistakes /= tf.cast(sequence_length, tf.float64)"
   ]
  },
  {
   "cell_type": "code",
   "execution_count": 111,
   "metadata": {
    "collapsed": true,
    "deletable": true,
    "editable": true
   },
   "outputs": [],
   "source": [
    "error = tf.reduce_mean(mistakes)"
   ]
  },
  {
   "cell_type": "markdown",
   "metadata": {
    "deletable": true,
    "editable": true
   },
   "source": [
    "#### Optimizer"
   ]
  },
  {
   "cell_type": "code",
   "execution_count": 112,
   "metadata": {
    "collapsed": true,
    "deletable": true,
    "editable": true
   },
   "outputs": [],
   "source": [
    "optimizer = tf.train.RMSPropOptimizer(0.002)"
   ]
  },
  {
   "cell_type": "code",
   "execution_count": 113,
   "metadata": {
    "collapsed": false,
    "deletable": true,
    "editable": true
   },
   "outputs": [],
   "source": [
    "gradient = optimizer.compute_gradients(loss)"
   ]
  },
  {
   "cell_type": "code",
   "execution_count": 114,
   "metadata": {
    "collapsed": false,
    "deletable": true,
    "editable": true
   },
   "outputs": [],
   "source": [
    "optimize = optimizer.apply_gradients(gradient)"
   ]
  },
  {
   "cell_type": "code",
   "execution_count": 115,
   "metadata": {
    "collapsed": true,
    "deletable": true,
    "editable": true
   },
   "outputs": [],
   "source": [
    "def batched(data, target, batch_size):\n",
    "    epoch = 0\n",
    "    offset = 0\n",
    "    while True:\n",
    "        old_offset = offset\n",
    "        offset = (offset + batch_size) % (target.shape[0] - batch_size)\n",
    "\n",
    "        # Offset wrapped around to the beginning so new epoch\n",
    "        if offset < old_offset:\n",
    "            # New epoch, need to shuffle data\n",
    "            shuffled_indices = np.random.permutation(len(data))\n",
    "            \n",
    "            data = data[shuffled_indices]\n",
    "            target = target[shuffled_indices]\n",
    "\n",
    "            epoch += 1\n",
    "\n",
    "        batch_data = data[offset:(offset + batch_size), :]\n",
    "        \n",
    "        batch_target = target[offset:(offset + batch_size), :]\n",
    "\n",
    "        yield batch_data, batch_target, epoch"
   ]
  },
  {
   "cell_type": "code",
   "execution_count": 116,
   "metadata": {
    "collapsed": false,
    "deletable": true,
    "editable": true
   },
   "outputs": [],
   "source": [
    "batch_size = 10\n",
    "batches = batched(train_data, train_target, batch_size)"
   ]
  },
  {
   "cell_type": "code",
   "execution_count": 117,
   "metadata": {
    "collapsed": true,
    "deletable": true,
    "editable": true
   },
   "outputs": [],
   "source": [
    "epochs = 5"
   ]
  },
  {
   "cell_type": "code",
   "execution_count": 118,
   "metadata": {
    "collapsed": false,
    "deletable": true,
    "editable": true
   },
   "outputs": [],
   "source": [
    "def batched(data, target, batch_size):\n",
    "    epoch = 0\n",
    "    offset = 0\n",
    "    while True:\n",
    "        old_offset = offset\n",
    "        offset = (offset + batch_size) % (target.shape[0] - batch_size)\n",
    "\n",
    "        # Offset wrapped around to the beginning so new epoch\n",
    "        if offset < old_offset:\n",
    "            # New epoch, need to shuffle data\n",
    "            shuffled_indices = np.random.permutation(len(data))\n",
    "            \n",
    "            data = data[shuffled_indices]\n",
    "            target = target[shuffled_indices]\n",
    "\n",
    "            epoch += 1\n",
    "\n",
    "        batch_data = data[offset:(offset + batch_size), :]\n",
    "        \n",
    "        batch_target = target[offset:(offset + batch_size), :]\n",
    "\n",
    "        yield batch_data, batch_target, epoch"
   ]
  },
  {
   "cell_type": "code",
   "execution_count": 119,
   "metadata": {
    "collapsed": true,
    "deletable": true,
    "editable": true
   },
   "outputs": [],
   "source": [
    "batch_size = 20\n",
    "batches = batched(train_data, train_target, batch_size)"
   ]
  },
  {
   "cell_type": "code",
   "execution_count": 120,
   "metadata": {
    "collapsed": true,
    "deletable": true,
    "editable": true
   },
   "outputs": [],
   "source": [
    "epochs = 5"
   ]
  },
  {
   "cell_type": "code",
   "execution_count": 121,
   "metadata": {
    "collapsed": false,
    "deletable": true,
    "editable": true
   },
   "outputs": [
    {
     "name": "stdout",
     "output_type": "stream",
     "text": [
      "1: 96.591880%\n",
      "2: 98.402778%\n",
      "3: 95.646465%\n",
      "4: 93.698718%\n",
      "5: 94.077020%\n",
      "6: 94.426587%\n",
      "7: 94.125000%\n",
      "8: 92.110570%\n",
      "9: 91.864899%\n",
      "10: 89.974206%\n",
      "11: 93.627414%\n",
      "12: 92.371767%\n",
      "13: 91.695665%\n",
      "14: 93.224206%\n",
      "15: 90.912698%\n",
      "16: 92.336053%\n",
      "17: 93.003968%\n",
      "18: 89.807540%\n",
      "19: 94.540113%\n",
      "20: 90.549423%\n",
      "21: 86.911436%\n",
      "22: 92.821068%\n",
      "23: 90.055861%\n",
      "24: 87.051587%\n",
      "25: 79.185440%\n",
      "26: 94.232143%\n",
      "27: 86.541667%\n",
      "28: 90.994048%\n",
      "29: 87.370796%\n",
      "30: 87.408675%\n",
      "31: 82.702686%\n",
      "32: 86.501623%\n",
      "33: 90.232393%\n",
      "34: 84.767857%\n",
      "35: 90.095849%\n",
      "36: 85.377595%\n",
      "37: 88.787338%\n",
      "38: 83.493506%\n",
      "39: 83.766067%\n",
      "40: 85.995310%\n",
      "41: 88.962302%\n",
      "42: 87.807789%\n",
      "43: 84.727633%\n",
      "44: 86.423701%\n",
      "45: 85.247780%\n",
      "46: 86.421190%\n",
      "47: 92.932540%\n",
      "48: 87.899365%\n",
      "49: 90.291250%\n",
      "50: 88.349817%\n",
      "51: 85.021895%\n",
      "52: 83.829185%\n",
      "53: 88.438131%\n",
      "54: 83.968504%\n",
      "55: 87.948413%\n",
      "56: 80.659812%\n",
      "57: 85.378913%\n",
      "58: 86.255411%\n",
      "59: 86.369658%\n",
      "60: 89.474817%\n",
      "61: 79.494908%\n",
      "62: 90.469877%\n",
      "63: 84.325397%\n",
      "64: 88.576659%\n",
      "65: 83.682179%\n",
      "66: 89.366703%\n",
      "67: 90.588925%\n",
      "68: 86.662338%\n",
      "69: 86.500250%\n",
      "70: 90.610750%\n",
      "71: 89.291667%\n",
      "72: 92.805556%\n",
      "73: 91.001263%\n",
      "74: 91.998321%\n",
      "75: 87.244048%\n",
      "76: 83.941087%\n",
      "77: 87.068723%\n",
      "78: 86.744048%\n",
      "79: 82.361236%\n",
      "80: 82.896590%\n",
      "81: 86.401043%\n",
      "82: 83.565476%\n",
      "83: 82.800033%\n",
      "84: 90.450216%\n",
      "85: 88.089230%\n",
      "86: 85.811577%\n",
      "87: 77.865079%\n",
      "88: 81.521465%\n",
      "89: 87.567460%\n",
      "90: 81.493756%\n",
      "91: 83.228480%\n",
      "92: 86.172869%\n",
      "93: 82.918387%\n",
      "94: 81.549603%\n",
      "95: 79.570665%\n",
      "96: 73.452991%\n",
      "97: 73.264791%\n",
      "98: 86.405844%\n",
      "99: 76.544913%\n",
      "100: 76.509463%\n",
      "101: 78.376998%\n",
      "102: 79.481241%\n",
      "103: 82.576382%\n",
      "104: 74.118590%\n",
      "105: 80.091769%\n",
      "106: 79.916667%\n",
      "107: 75.716089%\n",
      "108: 78.985390%\n",
      "109: 76.831349%\n",
      "110: 70.363095%\n",
      "111: 76.393468%\n",
      "112: 72.994048%\n",
      "113: 68.826479%\n",
      "114: 77.809843%\n",
      "115: 78.638348%\n",
      "116: 78.935204%\n",
      "117: 71.152778%\n",
      "118: 71.821692%\n",
      "119: 69.375153%\n",
      "120: 72.143010%\n",
      "121: 76.749237%\n",
      "122: 82.473748%\n",
      "123: 74.519481%\n",
      "124: 67.804987%\n",
      "125: 66.769300%\n",
      "126: 73.668415%\n",
      "127: 61.332029%\n",
      "128: 73.823413%\n",
      "129: 76.754579%\n",
      "130: 69.180556%\n",
      "131: 69.843254%\n",
      "132: 68.069444%\n",
      "133: 75.542569%\n",
      "134: 63.691378%\n",
      "135: 67.719114%\n",
      "136: 59.559607%\n",
      "137: 62.538614%\n",
      "138: 66.520549%\n",
      "139: 70.105159%\n",
      "140: 66.011905%\n",
      "141: 76.466270%\n",
      "142: 52.862637%\n",
      "143: 74.709402%\n",
      "144: 54.904901%\n",
      "145: 67.867063%\n",
      "146: 66.019841%\n",
      "147: 55.827020%\n",
      "148: 60.543484%\n",
      "149: 56.101190%\n",
      "150: 62.027015%\n",
      "151: 56.404762%\n",
      "152: 60.695804%\n",
      "153: 54.380189%\n",
      "154: 64.856727%\n",
      "155: 62.588051%\n",
      "156: 58.351815%\n",
      "157: 52.235958%\n",
      "158: 52.972222%\n",
      "159: 52.317183%\n",
      "160: 51.807706%\n",
      "161: 50.584096%\n",
      "162: 53.951021%\n",
      "163: 53.638167%\n",
      "164: 43.896368%\n",
      "165: 35.901515%\n",
      "166: 47.355159%\n",
      "167: 46.887266%\n",
      "168: 46.462302%\n",
      "169: 43.620671%\n",
      "170: 49.107587%\n",
      "171: 43.522935%\n",
      "172: 39.362179%\n",
      "173: 42.914683%\n",
      "174: 36.400794%\n",
      "175: 37.229437%\n",
      "176: 34.792388%\n",
      "177: 41.695665%\n",
      "178: 34.387807%\n",
      "179: 39.809524%\n",
      "180: 35.186508%\n",
      "181: 43.311508%\n",
      "182: 33.218212%\n",
      "183: 35.964189%\n",
      "184: 42.829365%\n",
      "185: 38.625874%\n",
      "186: 31.653860%\n",
      "187: 36.486208%\n",
      "188: 21.759921%\n",
      "189: 36.607517%\n",
      "190: 29.781288%\n",
      "191: 27.146701%\n",
      "192: 25.709596%\n",
      "193: 24.202187%\n",
      "194: 34.960886%\n",
      "195: 21.875180%\n",
      "196: 25.481158%\n",
      "197: 24.010462%\n",
      "198: 23.855242%\n",
      "199: 27.771062%\n",
      "200: 23.276862%\n",
      "201: 13.729423%\n",
      "202: 32.210012%\n",
      "203: 20.081349%\n",
      "204: 44.728896%\n",
      "205: 22.816850%\n",
      "206: 19.679335%\n",
      "207: 24.930070%\n",
      "208: 25.141414%\n",
      "209: 21.428571%\n",
      "210: 30.156205%\n",
      "211: 13.879565%\n",
      "212: 19.971001%\n",
      "213: 21.478632%\n",
      "214: 27.286713%\n",
      "215: 29.455128%\n",
      "216: 14.398046%\n",
      "217: 16.906136%\n",
      "218: 19.597222%\n",
      "219: 24.232226%\n",
      "220: 17.525183%\n",
      "221: 28.925158%\n",
      "222: 22.767552%\n",
      "223: 22.768218%\n",
      "224: 25.680556%\n",
      "225: 29.041667%\n",
      "226: 16.695665%\n",
      "227: 23.903000%\n",
      "228: 20.337121%\n",
      "229: 15.683081%\n",
      "230: 21.131313%\n",
      "231: 17.236111%\n",
      "232: 22.813367%\n",
      "233: 16.519231%\n",
      "234: 17.398199%\n",
      "235: 17.053336%\n",
      "236: 18.899711%\n",
      "237: 28.478938%\n",
      "238: 20.328449%\n",
      "239: 17.480519%\n",
      "240: 27.178932%\n",
      "241: 16.547619%\n",
      "242: 11.880828%\n",
      "243: 7.998474%\n",
      "244: 14.499389%\n",
      "245: 14.615398%\n",
      "246: 22.161894%\n",
      "247: 20.470238%\n",
      "248: 20.137807%\n",
      "249: 24.801587%\n",
      "250: 18.417305%\n",
      "251: 23.720751%\n",
      "252: 12.886294%\n",
      "253: 22.529387%\n",
      "254: 13.047980%\n",
      "255: 13.249875%\n",
      "256: 16.395022%\n",
      "257: 14.322802%\n",
      "258: 12.934524%\n",
      "259: 12.915224%\n",
      "260: 20.769231%\n",
      "261: 13.808303%\n",
      "262: 11.251679%\n",
      "263: 13.651862%\n",
      "264: 13.185606%\n",
      "265: 13.275086%\n",
      "266: 21.692335%\n",
      "267: 11.997405%\n",
      "268: 13.075397%\n",
      "269: 16.994505%\n",
      "270: 15.602744%\n",
      "271: 10.444500%\n",
      "272: 9.198413%\n",
      "273: 6.367063%\n",
      "274: 21.517857%\n",
      "275: 15.065102%\n",
      "276: 8.539683%\n",
      "277: 9.444139%\n",
      "278: 13.053141%\n",
      "279: 23.597028%\n",
      "280: 12.753968%\n",
      "281: 9.786977%\n",
      "282: 9.845779%\n",
      "283: 21.414683%\n",
      "284: 16.422619%\n",
      "285: 8.650794%\n",
      "286: 11.681929%\n",
      "287: 16.125180%\n",
      "288: 15.612790%\n",
      "289: 19.495532%\n",
      "290: 13.242091%\n",
      "291: 17.558608%\n",
      "292: 7.538462%\n",
      "293: 9.881188%\n",
      "294: 13.436508%\n",
      "295: 12.765263%\n",
      "296: 12.598485%\n",
      "297: 10.566558%\n",
      "298: 12.688672%\n",
      "299: 16.056818%\n",
      "300: 14.255952%\n",
      "301: 15.771062%\n",
      "302: 13.260101%\n",
      "303: 15.426643%\n",
      "304: 11.770299%\n",
      "305: 14.824786%\n",
      "306: 19.448399%\n",
      "307: 7.041847%\n",
      "308: 11.178571%\n",
      "309: 13.062160%\n",
      "310: 9.539683%\n",
      "311: 3.293651%\n",
      "312: 3.873016%\n",
      "313: 6.188672%\n",
      "314: 11.994228%\n",
      "315: 19.172189%\n",
      "316: 9.285714%\n",
      "317: 5.741758%\n",
      "318: 13.646520%\n",
      "319: 10.981838%\n",
      "320: 12.958333%\n",
      "321: 6.000000%\n",
      "322: 10.511905%\n",
      "323: 11.000180%\n",
      "324: 8.559635%\n",
      "325: 6.047619%\n",
      "326: 14.939394%\n",
      "327: 10.598901%\n",
      "328: 10.100885%\n",
      "329: 12.073413%\n",
      "330: 8.918651%\n",
      "331: 9.092643%\n",
      "332: 6.697192%\n",
      "333: 14.093434%\n",
      "334: 13.625000%\n",
      "335: 8.803571%\n",
      "336: 9.694444%\n",
      "337: 17.089646%\n",
      "338: 10.119048%\n",
      "339: 7.505828%\n",
      "340: 10.515568%\n",
      "341: 8.748377%\n",
      "342: 9.541667%\n",
      "343: 8.648990%\n",
      "344: 9.362790%\n",
      "345: 4.246032%\n",
      "346: 4.513889%\n",
      "347: 10.436508%\n",
      "348: 3.720238%\n",
      "349: 7.539683%\n",
      "350: 10.125000%\n",
      "351: 12.222222%\n",
      "352: 16.581099%\n",
      "353: 4.625000%\n",
      "354: 14.311688%\n",
      "355: 5.000000%\n",
      "356: 12.347944%\n",
      "357: 10.555556%\n",
      "358: 5.313853%\n",
      "359: 6.555556%\n",
      "360: 5.121032%\n",
      "361: 6.240079%\n",
      "362: 8.965840%\n",
      "363: 9.095238%\n",
      "364: 4.522006%\n",
      "365: 4.676948%\n",
      "366: 6.576923%\n",
      "367: 2.678571%\n",
      "368: 7.773810%\n",
      "369: 6.972222%\n",
      "370: 9.136905%\n",
      "371: 2.172619%\n",
      "372: 6.065046%\n",
      "373: 6.098291%\n",
      "374: 10.662698%\n",
      "375: 2.666667%\n",
      "376: 4.555556%\n",
      "377: 3.019841%\n",
      "378: 8.955087%\n",
      "379: 8.125208%\n",
      "380: 10.738095%\n",
      "381: 3.927961%\n",
      "382: 8.968254%\n",
      "383: 8.065476%\n",
      "384: 8.541667%\n",
      "385: 10.688672%\n",
      "386: 6.424298%\n",
      "387: 8.960498%\n",
      "388: 3.740079%\n",
      "389: 7.805736%\n",
      "390: 4.349262%\n",
      "391: 5.133478%\n",
      "392: 7.434524%\n",
      "393: 7.309982%\n",
      "394: 5.500000%\n",
      "395: 13.547980%\n",
      "396: 4.750000%\n",
      "397: 4.717949%\n",
      "398: 5.166667%\n",
      "399: 3.769841%\n",
      "400: 8.497891%\n",
      "401: 4.918831%\n",
      "402: 3.333333%\n",
      "403: 6.013889%\n",
      "404: 2.083333%\n",
      "405: 3.867244%\n",
      "406: 6.444444%\n",
      "407: 4.487179%\n",
      "408: 1.000000%\n",
      "409: 2.777778%\n",
      "410: 9.446970%\n",
      "411: 12.595696%\n",
      "412: 6.000000%\n",
      "413: 14.886364%\n",
      "414: 11.145022%\n",
      "415: 5.208333%\n",
      "416: 9.222222%\n",
      "417: 6.142857%\n",
      "418: 10.900794%\n",
      "419: 2.765568%\n",
      "420: 1.079545%\n",
      "421: 8.680556%\n",
      "422: 6.293651%\n",
      "423: 9.090965%\n",
      "424: 1.714286%\n",
      "425: 3.655303%\n",
      "426: 6.319444%\n",
      "427: 7.279942%\n",
      "428: 1.555556%\n",
      "429: 6.333333%\n",
      "430: 7.936508%\n",
      "431: 8.257631%\n",
      "432: 9.172009%\n",
      "433: 6.736111%\n",
      "434: 6.894841%\n",
      "435: 7.964286%\n",
      "436: 2.051282%\n",
      "437: 6.824786%\n",
      "438: 0.801282%\n",
      "439: 6.452381%\n",
      "440: 1.111111%\n",
      "441: 13.690476%\n",
      "442: 5.756410%\n",
      "443: 10.294913%\n",
      "444: 6.418526%\n",
      "445: 1.666667%\n",
      "446: 1.666667%\n",
      "447: 8.075397%\n",
      "448: 7.071429%\n",
      "449: 7.103175%\n",
      "450: 1.000000%\n",
      "451: 4.652778%\n",
      "452: 6.666667%\n",
      "453: 7.412879%\n",
      "454: 2.468254%\n",
      "455: 2.954545%\n",
      "456: 0.769231%\n",
      "457: 0.625000%\n",
      "458: 0.384615%\n",
      "459: 10.333333%\n",
      "460: 2.467949%\n",
      "461: 4.432234%\n",
      "462: 1.625000%\n",
      "463: 0.972222%\n",
      "464: 1.041667%\n",
      "465: 4.742424%\n",
      "466: 3.333333%\n",
      "467: 1.041667%\n",
      "468: 8.391053%\n",
      "469: 8.371032%\n",
      "470: 3.125000%\n",
      "471: 4.566850%\n",
      "472: 4.263889%\n",
      "473: 2.847222%\n",
      "474: 1.339286%\n",
      "475: 1.696429%\n",
      "476: 0.416667%\n",
      "477: 1.111111%\n",
      "478: 2.495726%\n",
      "479: 3.859127%\n",
      "480: 1.250000%\n",
      "481: 3.023810%\n",
      "482: 2.527778%\n",
      "483: 0.555556%\n",
      "484: 3.013889%\n",
      "485: 4.500000%\n",
      "486: 2.777778%\n",
      "487: 0.500000%\n",
      "488: 1.839286%\n",
      "489: 0.625000%\n",
      "490: 4.242424%\n",
      "491: 4.750000%\n",
      "492: 8.011905%\n",
      "493: 8.095238%\n",
      "494: 4.666667%\n",
      "495: 3.325397%\n",
      "496: 0.357143%\n",
      "497: 3.915043%\n",
      "498: 2.408425%\n",
      "499: 1.071429%\n",
      "500: 0.000000%\n",
      "501: 3.666667%\n",
      "502: 3.579545%\n",
      "503: 3.333333%\n",
      "504: 2.000000%\n",
      "505: 2.324786%\n",
      "506: 1.428571%\n",
      "507: 2.222222%\n",
      "508: 3.833333%\n",
      "509: 7.648810%\n",
      "510: 8.541667%\n",
      "511: 0.833333%\n",
      "512: 5.833333%\n",
      "513: 1.742424%\n",
      "514: 0.714286%\n",
      "515: 3.833333%\n",
      "516: 1.625000%\n",
      "517: 5.666667%\n",
      "518: 1.500000%\n",
      "519: 1.339286%\n",
      "520: 4.690476%\n",
      "521: 2.267732%\n",
      "522: 4.583333%\n",
      "523: 0.714286%\n",
      "524: 7.666667%\n",
      "525: 0.000000%\n",
      "526: 4.333333%\n",
      "527: 6.111111%\n",
      "528: 2.500000%\n",
      "529: 2.291667%\n",
      "530: 0.000000%\n",
      "531: 1.894841%\n",
      "532: 3.348901%\n",
      "533: 1.428571%\n",
      "534: 3.333333%\n",
      "535: 0.500000%\n",
      "536: 6.111111%\n",
      "537: 2.714286%\n",
      "538: 18.174603%\n",
      "539: 5.233516%\n",
      "540: 4.696429%\n",
      "541: 2.916667%\n",
      "542: 1.607143%\n",
      "543: 2.500000%\n",
      "544: 2.083333%\n",
      "545: 9.210859%\n",
      "546: 3.500000%\n",
      "547: 4.079545%\n",
      "548: 5.386905%\n",
      "549: 1.055556%\n",
      "550: 1.833333%\n",
      "551: 1.666667%\n",
      "552: 2.103175%\n",
      "553: 1.000000%\n",
      "554: 0.000000%\n",
      "555: 1.000000%\n",
      "556: 2.467949%\n",
      "557: 5.714286%\n",
      "558: 2.142857%\n",
      "559: 1.666667%\n",
      "560: 3.333333%\n",
      "561: 2.435897%\n",
      "562: 1.388889%\n",
      "563: 1.079545%\n",
      "564: 0.833333%\n",
      "565: 3.541667%\n",
      "566: 1.857143%\n",
      "567: 0.916667%\n",
      "568: 1.666667%\n",
      "569: 2.676768%\n",
      "570: 0.000000%\n",
      "571: 1.458333%\n",
      "572: 1.180556%\n",
      "573: 1.483516%\n",
      "574: 1.000000%\n",
      "575: 0.714286%\n",
      "576: 0.000000%\n",
      "577: 0.833333%\n",
      "578: 0.625000%\n",
      "579: 3.000000%\n",
      "580: 0.500000%\n",
      "581: 2.142857%\n",
      "582: 0.000000%\n",
      "583: 0.833333%\n",
      "584: 2.932900%\n",
      "585: 0.833333%\n",
      "586: 4.210859%\n",
      "587: 1.111111%\n",
      "588: 0.000000%\n",
      "589: 7.291667%\n",
      "590: 4.166667%\n",
      "591: 2.500000%\n",
      "592: 1.388889%\n",
      "593: 1.000000%\n",
      "594: 0.000000%\n",
      "595: 0.384615%\n",
      "596: 5.625000%\n",
      "597: 2.051282%\n",
      "598: 0.000000%\n",
      "599: 2.714286%\n",
      "600: 0.625000%\n",
      "601: 0.833333%\n",
      "602: 3.958333%\n",
      "603: 0.454545%\n",
      "604: 6.555556%\n",
      "605: 0.000000%\n",
      "606: 2.500000%\n",
      "607: 5.071429%\n",
      "608: 0.000000%\n",
      "609: 1.071429%\n",
      "610: 0.912698%\n",
      "611: 2.428571%\n",
      "612: 1.009615%\n",
      "613: 3.571429%\n",
      "614: 0.912698%\n",
      "615: 2.648810%\n",
      "616: 7.922494%\n",
      "617: 1.168831%\n",
      "618: 9.166667%\n",
      "619: 0.555556%\n",
      "620: 0.833333%\n",
      "621: 1.666667%\n",
      "622: 0.000000%\n",
      "623: 0.555556%\n",
      "624: 1.428571%\n",
      "625: 7.000000%\n",
      "626: 0.000000%\n",
      "627: 1.666667%\n",
      "628: 2.440476%\n",
      "629: 3.611111%\n",
      "630: 7.000000%\n",
      "631: 5.000000%\n",
      "632: 1.666667%\n",
      "633: 1.666667%\n",
      "634: 1.875000%\n",
      "635: 5.558608%\n",
      "636: 4.935897%\n",
      "637: 1.180556%\n",
      "638: 3.666667%\n",
      "639: 0.416667%\n",
      "640: 1.000000%\n",
      "641: 4.375000%\n",
      "642: 2.727273%\n",
      "643: 5.023810%\n",
      "644: 0.954545%\n",
      "645: 1.388889%\n",
      "646: 3.333333%\n",
      "647: 0.384615%\n",
      "648: 0.416667%\n",
      "649: 2.172619%\n",
      "650: 3.402778%\n",
      "651: 0.555556%\n",
      "652: 0.000000%\n",
      "653: 0.000000%\n",
      "654: 2.000000%\n",
      "655: 0.000000%\n",
      "656: 1.388889%\n",
      "657: 6.339286%\n",
      "658: 2.500000%\n",
      "659: 1.428571%\n",
      "660: 0.833333%\n",
      "661: 2.880952%\n",
      "662: 2.121212%\n",
      "663: 3.888889%\n",
      "664: 0.625000%\n",
      "665: 2.621212%\n",
      "666: 0.000000%\n",
      "667: 0.000000%\n",
      "668: 0.000000%\n",
      "669: 1.666667%\n",
      "670: 0.416667%\n",
      "671: 2.210012%\n",
      "672: 3.333333%\n",
      "673: 5.551282%\n",
      "674: 4.444444%\n",
      "675: 1.000000%\n",
      "676: 0.000000%\n",
      "677: 0.833333%\n",
      "678: 3.690476%\n",
      "679: 0.000000%\n",
      "680: 0.000000%\n",
      "681: 0.000000%\n",
      "682: 0.357143%\n",
      "683: 0.555556%\n",
      "684: 0.555556%\n",
      "685: 0.833333%\n",
      "686: 0.000000%\n",
      "687: 0.000000%\n",
      "688: 2.666667%\n",
      "689: 0.000000%\n",
      "690: 3.333333%\n",
      "691: 0.000000%\n",
      "692: 1.666667%\n",
      "693: 0.625000%\n",
      "694: 0.000000%\n",
      "695: 0.000000%\n",
      "696: 0.000000%\n",
      "697: 0.000000%\n",
      "698: 0.000000%\n",
      "699: 0.000000%\n",
      "700: 0.000000%\n",
      "701: 1.000000%\n",
      "702: 1.666667%\n",
      "703: 2.750000%\n",
      "704: 2.142857%\n",
      "705: 2.777778%\n",
      "706: 2.000000%\n",
      "707: 0.000000%\n",
      "708: 0.555556%\n",
      "709: 0.000000%\n",
      "710: 1.666667%\n",
      "711: 0.000000%\n",
      "712: 2.777778%\n",
      "713: 0.625000%\n",
      "714: 0.000000%\n",
      "715: 0.000000%\n",
      "716: 1.666667%\n",
      "717: 0.625000%\n",
      "718: 0.000000%\n",
      "719: 0.000000%\n",
      "720: 0.714286%\n",
      "721: 1.666667%\n",
      "722: 9.333333%\n",
      "723: 1.339286%\n",
      "724: 0.000000%\n",
      "725: 1.666667%\n",
      "726: 1.000000%\n",
      "727: 0.000000%\n",
      "728: 0.000000%\n",
      "729: 0.555556%\n",
      "730: 0.000000%\n",
      "731: 6.217949%\n",
      "732: 0.416667%\n",
      "733: 1.428571%\n",
      "734: 1.547619%\n",
      "735: 1.287879%\n",
      "736: 3.333333%\n",
      "737: 0.000000%\n",
      "738: 0.833333%\n",
      "739: 0.714286%\n",
      "740: 0.000000%\n",
      "741: 1.666667%\n",
      "742: 0.000000%\n",
      "743: 0.000000%\n",
      "744: 4.166667%\n",
      "745: 3.130828%\n",
      "746: 0.000000%\n",
      "747: 0.000000%\n",
      "748: 0.000000%\n",
      "749: 1.666667%\n",
      "750: 0.000000%\n",
      "751: 0.000000%\n",
      "752: 1.666667%\n",
      "753: 0.000000%\n",
      "754: 1.180556%\n",
      "755: 1.666667%\n",
      "756: 1.666667%\n",
      "757: 0.714286%\n",
      "758: 0.000000%\n",
      "759: 1.666667%\n",
      "760: 0.000000%\n",
      "761: 5.416667%\n",
      "762: 0.000000%\n",
      "763: 0.555556%\n",
      "764: 0.000000%\n",
      "765: 0.000000%\n",
      "766: 0.000000%\n",
      "767: 2.500000%\n",
      "768: 0.625000%\n",
      "769: 0.555556%\n",
      "770: 0.625000%\n",
      "771: 5.000000%\n",
      "772: 1.666667%\n",
      "773: 1.666667%\n",
      "774: 2.380952%\n",
      "775: 2.339286%\n",
      "776: 0.000000%\n",
      "777: 0.000000%\n",
      "778: 0.000000%\n",
      "779: 0.000000%\n",
      "780: 1.250000%\n",
      "781: 0.000000%\n",
      "782: 0.833333%\n",
      "783: 0.000000%\n",
      "784: 1.000000%\n",
      "785: 2.416667%\n",
      "786: 1.666667%\n",
      "787: 1.666667%\n",
      "788: 0.000000%\n",
      "789: 0.000000%\n",
      "790: 0.000000%\n",
      "791: 0.000000%\n",
      "792: 0.500000%\n",
      "793: 0.000000%\n",
      "794: 0.000000%\n",
      "795: 1.666667%\n",
      "796: 0.000000%\n",
      "797: 3.333333%\n",
      "798: 0.416667%\n",
      "799: 0.384615%\n",
      "800: 1.111111%\n",
      "801: 0.714286%\n",
      "802: 0.714286%\n",
      "803: 0.000000%\n",
      "804: 0.000000%\n",
      "805: 0.714286%\n",
      "806: 0.000000%\n",
      "807: 0.000000%\n",
      "808: 0.833333%\n",
      "809: 0.555556%\n",
      "810: 0.000000%\n",
      "811: 2.500000%\n",
      "812: 0.500000%\n",
      "813: 0.000000%\n",
      "814: 0.000000%\n",
      "815: 0.555556%\n",
      "816: 0.000000%\n",
      "817: 0.000000%\n",
      "818: 0.000000%\n",
      "819: 0.000000%\n",
      "820: 5.000000%\n",
      "821: 0.000000%\n",
      "822: 0.000000%\n",
      "823: 0.384615%\n",
      "824: 5.333333%\n",
      "825: 1.666667%\n",
      "826: 0.833333%\n",
      "827: 0.000000%\n",
      "828: 3.333333%\n",
      "829: 0.000000%\n",
      "830: 0.000000%\n",
      "831: 1.325758%\n",
      "832: 1.666667%\n",
      "833: 0.000000%\n",
      "834: 1.666667%\n",
      "835: 1.666667%\n",
      "836: 0.000000%\n",
      "837: 0.000000%\n",
      "838: 1.125000%\n",
      "839: 0.714286%\n",
      "840: 1.666667%\n",
      "841: 1.555556%\n",
      "842: 0.000000%\n",
      "843: 0.000000%\n",
      "844: 1.666667%\n",
      "845: 0.000000%\n",
      "846: 0.000000%\n",
      "847: 0.000000%\n",
      "848: 0.000000%\n",
      "849: 0.000000%\n",
      "850: 0.000000%\n",
      "851: 1.000000%\n",
      "852: 3.333333%\n",
      "853: 0.000000%\n",
      "854: 0.416667%\n",
      "855: 1.666667%\n",
      "856: 1.666667%\n",
      "857: 0.555556%\n",
      "858: 0.000000%\n",
      "859: 0.416667%\n",
      "860: 0.000000%\n",
      "861: 1.666667%\n",
      "862: 0.833333%\n",
      "863: 2.500000%\n",
      "864: 1.666667%\n",
      "865: 0.000000%\n",
      "866: 0.000000%\n",
      "867: 1.666667%\n",
      "868: 3.888889%\n",
      "869: 1.666667%\n",
      "870: 2.916667%\n",
      "871: 2.023810%\n",
      "872: 5.000000%\n",
      "873: 1.428571%\n",
      "874: 2.666667%\n",
      "875: 1.547619%\n",
      "876: 0.000000%\n",
      "877: 1.666667%\n",
      "878: 0.000000%\n",
      "879: 0.625000%\n",
      "880: 3.333333%\n",
      "881: 0.000000%\n",
      "882: 0.000000%\n",
      "883: 0.000000%\n",
      "884: 0.833333%\n",
      "885: 1.250000%\n",
      "886: 0.000000%\n",
      "887: 0.000000%\n",
      "888: 0.833333%\n",
      "889: 1.666667%\n",
      "890: 0.982143%\n",
      "891: 5.000000%\n",
      "892: 1.293706%\n",
      "893: 1.111111%\n",
      "894: 1.666667%\n",
      "895: 0.000000%\n",
      "896: 0.000000%\n",
      "897: 0.000000%\n",
      "898: 0.833333%\n",
      "899: 0.000000%\n",
      "900: 3.333333%\n",
      "901: 1.875000%\n",
      "902: 1.333333%\n",
      "903: 2.380952%\n",
      "904: 3.333333%\n",
      "905: 1.666667%\n",
      "906: 0.454545%\n",
      "907: 0.000000%\n",
      "908: 0.000000%\n",
      "909: 0.000000%\n",
      "910: 0.000000%\n",
      "911: 1.666667%\n",
      "912: 0.000000%\n",
      "913: 0.000000%\n",
      "914: 0.000000%\n",
      "915: 0.000000%\n",
      "916: 0.000000%\n",
      "917: 0.000000%\n",
      "918: 0.416667%\n",
      "919: 0.000000%\n",
      "920: 0.000000%\n",
      "921: 0.000000%\n",
      "922: 0.000000%\n",
      "923: 0.454545%\n",
      "924: 0.000000%\n",
      "925: 0.000000%\n",
      "926: 0.000000%\n",
      "927: 0.000000%\n",
      "928: 0.000000%\n",
      "929: 0.000000%\n",
      "930: 0.000000%\n",
      "931: 0.000000%\n",
      "932: 0.000000%\n",
      "933: 0.000000%\n",
      "934: 0.000000%\n",
      "935: 0.000000%\n",
      "936: 0.000000%\n",
      "937: 3.333333%\n",
      "938: 0.000000%\n",
      "939: 0.000000%\n",
      "940: 0.000000%\n",
      "941: 0.000000%\n",
      "942: 0.000000%\n",
      "943: 0.000000%\n",
      "944: 0.000000%\n",
      "945: 0.000000%\n",
      "946: 0.000000%\n",
      "947: 0.000000%\n",
      "948: 0.000000%\n",
      "949: 0.000000%\n",
      "950: 0.000000%\n",
      "951: 0.555556%\n",
      "952: 0.000000%\n",
      "953: 0.000000%\n",
      "954: 0.714286%\n",
      "955: 0.000000%\n",
      "956: 0.555556%\n",
      "957: 0.000000%\n",
      "958: 0.000000%\n",
      "959: 0.000000%\n",
      "960: 0.000000%\n",
      "961: 0.833333%\n",
      "962: 0.000000%\n",
      "963: 1.666667%\n",
      "964: 0.000000%\n",
      "965: 0.000000%\n",
      "966: 0.000000%\n",
      "967: 0.000000%\n",
      "968: 1.666667%\n",
      "969: 0.000000%\n",
      "970: 0.000000%\n",
      "971: 0.000000%\n",
      "972: 1.666667%\n",
      "973: 0.555556%\n",
      "974: 0.000000%\n",
      "975: 0.625000%\n",
      "976: 0.000000%\n",
      "977: 0.000000%\n",
      "978: 1.666667%\n",
      "979: 0.000000%\n",
      "980: 0.000000%\n",
      "981: 0.000000%\n",
      "982: 0.000000%\n",
      "983: 0.000000%\n",
      "984: 0.000000%\n",
      "985: 0.000000%\n",
      "986: 1.666667%\n",
      "987: 0.000000%\n",
      "988: 1.000000%\n",
      "989: 0.000000%\n",
      "990: 0.000000%\n",
      "991: 0.000000%\n",
      "992: 0.000000%\n",
      "993: 0.000000%\n",
      "994: 1.666667%\n",
      "995: 0.000000%\n",
      "996: 1.666667%\n",
      "997: 0.000000%\n",
      "998: 0.000000%\n",
      "999: 0.000000%\n",
      "1000: 0.000000%\n",
      "1001: 0.000000%\n",
      "1002: 0.500000%\n",
      "1003: 0.000000%\n",
      "1004: 0.000000%\n",
      "1005: 0.625000%\n",
      "1006: 3.333333%\n",
      "1007: 0.500000%\n",
      "1008: 0.000000%\n",
      "1009: 0.000000%\n",
      "1010: 0.000000%\n",
      "1011: 3.333333%\n",
      "1012: 0.000000%\n",
      "1013: 1.666667%\n",
      "1014: 0.000000%\n",
      "1015: 0.000000%\n",
      "1016: 1.666667%\n",
      "1017: 0.000000%\n",
      "1018: 0.000000%\n",
      "1019: 1.666667%\n",
      "1020: 0.000000%\n",
      "1021: 1.287879%\n",
      "1022: 0.000000%\n",
      "1023: 2.500000%\n",
      "1024: 0.000000%\n",
      "1025: 0.000000%\n",
      "1026: 0.000000%\n",
      "1027: 0.000000%\n",
      "1028: 1.666667%\n",
      "1029: 0.000000%\n",
      "1030: 0.000000%\n",
      "1031: 0.416667%\n",
      "1032: 0.000000%\n",
      "1033: 0.000000%\n",
      "1034: 0.000000%\n",
      "1035: 0.000000%\n",
      "1036: 1.666667%\n",
      "1037: 0.000000%\n",
      "1038: 0.000000%\n",
      "1039: 0.000000%\n",
      "1040: 2.500000%\n",
      "1041: 0.000000%\n",
      "1042: 0.000000%\n",
      "1043: 0.833333%\n",
      "1044: 0.000000%\n",
      "1045: 1.666667%\n",
      "1046: 0.000000%\n",
      "1047: 0.625000%\n",
      "1048: 0.000000%\n",
      "1049: 0.000000%\n",
      "1050: 0.000000%\n",
      "1051: 0.000000%\n",
      "1052: 0.000000%\n",
      "1053: 0.000000%\n",
      "1054: 0.000000%\n",
      "1055: 0.833333%\n",
      "1056: 0.000000%\n",
      "1057: 1.000000%\n",
      "1058: 0.416667%\n",
      "1059: 0.000000%\n",
      "1060: 1.666667%\n",
      "1061: 0.000000%\n",
      "1062: 0.000000%\n",
      "1063: 0.000000%\n",
      "1064: 0.000000%\n",
      "1065: 0.000000%\n",
      "1066: 0.000000%\n",
      "1067: 0.000000%\n",
      "1068: 1.666667%\n",
      "1069: 0.000000%\n",
      "1070: 0.000000%\n",
      "1071: 1.666667%\n",
      "1072: 0.000000%\n",
      "1073: 0.000000%\n",
      "1074: 1.250000%\n",
      "1075: 0.000000%\n",
      "1076: 0.714286%\n",
      "1077: 0.000000%\n",
      "1078: 0.000000%\n",
      "1079: 0.000000%\n",
      "1080: 0.000000%\n",
      "1081: 0.000000%\n",
      "1082: 0.625000%\n",
      "1083: 0.000000%\n",
      "1084: 0.000000%\n",
      "1085: 0.555556%\n",
      "1086: 0.416667%\n",
      "1087: 0.000000%\n",
      "1088: 0.000000%\n",
      "1089: 0.000000%\n",
      "1090: 0.000000%\n",
      "1091: 0.000000%\n",
      "1092: 1.666667%\n",
      "1093: 0.416667%\n",
      "1094: 0.000000%\n",
      "1095: 1.666667%\n",
      "1096: 0.833333%\n",
      "1097: 0.625000%\n",
      "1098: 0.000000%\n",
      "1099: 0.000000%\n",
      "1100: 0.000000%\n",
      "1101: 1.000000%\n",
      "1102: 3.690476%\n",
      "1103: 0.000000%\n",
      "1104: 4.333333%\n",
      "1105: 0.000000%\n",
      "1106: 0.500000%\n",
      "1107: 0.555556%\n",
      "1108: 1.625000%\n",
      "1109: 0.000000%\n",
      "1110: 1.000000%\n",
      "1111: 1.009615%\n",
      "1112: 0.000000%\n",
      "1113: 0.000000%\n",
      "1114: 1.666667%\n",
      "1115: 0.972222%\n",
      "1116: 0.000000%\n",
      "1117: 0.714286%\n",
      "1118: 1.111111%\n",
      "1119: 1.000000%\n",
      "1120: 0.000000%\n",
      "1121: 0.000000%\n",
      "1122: 0.000000%\n",
      "1123: 0.000000%\n",
      "1124: 0.714286%\n",
      "1125: 0.625000%\n",
      "1126: 0.000000%\n",
      "1127: 0.000000%\n",
      "1128: 0.000000%\n",
      "1129: 0.000000%\n",
      "Test error: 2.188058%\n"
     ]
    }
   ],
   "source": [
    "with tf.Session() as sess:\n",
    "    \n",
    "    sess.run(tf.global_variables_initializer())\n",
    "\n",
    "    for index, batch in enumerate(batches):\n",
    "        batch_data = batch[0]\n",
    "        batch_target = batch[1]\n",
    "    \n",
    "        epoch = batch[2]\n",
    "\n",
    "        if epoch >= epochs:\n",
    "            break\n",
    "        \n",
    "        feed = {X: batch_data, y: batch_target}\n",
    "        train_error, _ = sess.run([error, optimize], feed)\n",
    "        \n",
    "        print('{}: {:3.6f}%'.format(index + 1, 100 * train_error))\n",
    "\n",
    "    test_feed = {X: test_data, y: test_target}\n",
    "    test_error, _ = sess.run([error, optimize], test_feed)\n",
    "    \n",
    "    print('Test error: {:3.6f}%'.format(100 * test_error))"
   ]
  },
  {
   "cell_type": "code",
   "execution_count": null,
   "metadata": {
    "collapsed": true,
    "deletable": true,
    "editable": true
   },
   "outputs": [],
   "source": []
  }
 ],
 "metadata": {
  "kernelspec": {
   "display_name": "Python 2",
   "language": "python",
   "name": "python2"
  },
  "language_info": {
   "codemirror_mode": {
    "name": "ipython",
    "version": 2
   },
   "file_extension": ".py",
   "mimetype": "text/x-python",
   "name": "python",
   "nbconvert_exporter": "python",
   "pygments_lexer": "ipython2",
   "version": "2.7.11"
  }
 },
 "nbformat": 4,
 "nbformat_minor": 2
}
