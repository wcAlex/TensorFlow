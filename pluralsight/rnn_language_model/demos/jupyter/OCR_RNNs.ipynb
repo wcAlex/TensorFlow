{
 "cells": [
  {
   "cell_type": "markdown",
   "metadata": {
    "deletable": true,
    "editable": true
   },
   "source": [
    "### Optical character recognition using RNNs"
   ]
  },
  {
   "cell_type": "code",
   "execution_count": 1,
   "metadata": {
    "collapsed": false,
    "deletable": true,
    "editable": true
   },
   "outputs": [
    {
     "name": "stdout",
     "output_type": "stream",
     "text": [
      "Requirement already up-to-date: numpy in /usr/local/lib/python2.7/site-packages\n",
      "Requirement already up-to-date: tensorflow in /usr/local/lib/python2.7/site-packages\n",
      "Requirement already up-to-date: six>=1.10.0 in /usr/local/lib/python2.7/site-packages (from tensorflow)\n",
      "Requirement already up-to-date: numpy>=1.12.1 in /usr/local/lib/python2.7/site-packages (from tensorflow)\n",
      "Requirement already up-to-date: tensorflow-tensorboard<0.5.0,>=0.4.0rc1 in /usr/local/lib/python2.7/site-packages (from tensorflow)\n",
      "Requirement already up-to-date: mock>=2.0.0 in /usr/local/lib/python2.7/site-packages (from tensorflow)\n",
      "Requirement already up-to-date: enum34>=1.1.6 in /usr/local/lib/python2.7/site-packages (from tensorflow)\n",
      "Requirement already up-to-date: protobuf>=3.3.0 in /usr/local/lib/python2.7/site-packages (from tensorflow)\n",
      "Requirement already up-to-date: wheel in /usr/local/lib/python2.7/site-packages (from tensorflow)\n",
      "Requirement already up-to-date: backports.weakref>=1.0rc1 in /usr/local/lib/python2.7/site-packages (from tensorflow)\n",
      "Collecting werkzeug>=0.11.10 (from tensorflow-tensorboard<0.5.0,>=0.4.0rc1->tensorflow)\n",
      "  Downloading Werkzeug-0.14.1-py2.py3-none-any.whl (322kB)\n",
      "\u001b[K    100% |████████████████████████████████| 327kB 576kB/s ta 0:00:01\n",
      "\u001b[?25hRequirement already up-to-date: html5lib==0.9999999 in /usr/local/lib/python2.7/site-packages (from tensorflow-tensorboard<0.5.0,>=0.4.0rc1->tensorflow)\n",
      "Requirement already up-to-date: futures>=3.1.1; python_version < \"3.2\" in /usr/local/lib/python2.7/site-packages (from tensorflow-tensorboard<0.5.0,>=0.4.0rc1->tensorflow)\n",
      "Requirement already up-to-date: bleach==1.5.0 in /usr/local/lib/python2.7/site-packages (from tensorflow-tensorboard<0.5.0,>=0.4.0rc1->tensorflow)\n",
      "Requirement already up-to-date: markdown>=2.6.8 in /usr/local/lib/python2.7/site-packages (from tensorflow-tensorboard<0.5.0,>=0.4.0rc1->tensorflow)\n",
      "Requirement already up-to-date: funcsigs>=1; python_version < \"3.3\" in /usr/local/lib/python2.7/site-packages (from mock>=2.0.0->tensorflow)\n",
      "Requirement already up-to-date: pbr>=0.11 in /usr/local/lib/python2.7/site-packages (from mock>=2.0.0->tensorflow)\n",
      "Requirement already up-to-date: setuptools in /usr/local/lib/python2.7/site-packages (from protobuf>=3.3.0->tensorflow)\n",
      "Installing collected packages: werkzeug\n",
      "  Found existing installation: Werkzeug 0.13\n",
      "    Uninstalling Werkzeug-0.13:\n",
      "      Successfully uninstalled Werkzeug-0.13\n",
      "Successfully installed werkzeug-0.14.1\n"
     ]
    }
   ],
   "source": [
    "!pip install --upgrade numpy\n",
    "!pip install --upgrade tensorflow"
   ]
  },
  {
   "cell_type": "code",
   "execution_count": 2,
   "metadata": {
    "collapsed": true,
    "deletable": true,
    "editable": true
   },
   "outputs": [],
   "source": [
    "from __future__ import absolute_import\n",
    "from __future__ import division\n",
    "from __future__ import print_function"
   ]
  },
  {
   "cell_type": "code",
   "execution_count": 3,
   "metadata": {
    "collapsed": false,
    "deletable": true,
    "editable": true
   },
   "outputs": [],
   "source": [
    "import os\n",
    "import gzip\n",
    "import csv"
   ]
  },
  {
   "cell_type": "code",
   "execution_count": 4,
   "metadata": {
    "collapsed": true,
    "deletable": true,
    "editable": true
   },
   "outputs": [],
   "source": [
    "import numpy as np\n",
    "import tensorflow as tf"
   ]
  },
  {
   "cell_type": "code",
   "execution_count": 5,
   "metadata": {
    "collapsed": true,
    "deletable": true,
    "editable": true
   },
   "outputs": [],
   "source": [
    "%matplotlib inline\n",
    "\n",
    "import matplotlib\n",
    "import matplotlib.pyplot as plt"
   ]
  },
  {
   "cell_type": "code",
   "execution_count": 6,
   "metadata": {
    "collapsed": true,
    "deletable": true,
    "editable": true
   },
   "outputs": [],
   "source": [
    "from six.moves import urllib"
   ]
  },
  {
   "cell_type": "code",
   "execution_count": 7,
   "metadata": {
    "collapsed": false,
    "deletable": true,
    "editable": true
   },
   "outputs": [
    {
     "name": "stdout",
     "output_type": "stream",
     "text": [
      "1.13.3\n",
      "1.4.1\n"
     ]
    }
   ],
   "source": [
    "print(np.__version__)\n",
    "print(tf.__version__)"
   ]
  },
  {
   "cell_type": "code",
   "execution_count": 8,
   "metadata": {
    "collapsed": true,
    "deletable": true,
    "editable": true
   },
   "outputs": [],
   "source": [
    "URL_PATH = 'http://ai.stanford.edu/~btaskar/ocr/letter.data.gz'\n",
    "DOWNLOADED_FILENAME = 'letter.data.gz'\n",
    "\n",
    "def download_data():\n",
    "    if not os.path.exists(DOWNLOADED_FILENAME):\n",
    "        filename, _ = urllib.request.urlretrieve(URL_PATH, DOWNLOADED_FILENAME)\n",
    "    \n",
    "    print('Found and verified file from this path: ', URL_PATH)\n",
    "    print('Downloaded file: ', DOWNLOADED_FILENAME)"
   ]
  },
  {
   "cell_type": "code",
   "execution_count": 9,
   "metadata": {
    "collapsed": false,
    "deletable": true,
    "editable": true
   },
   "outputs": [
    {
     "name": "stdout",
     "output_type": "stream",
     "text": [
      "Found and verified file from this path:  http://ai.stanford.edu/~btaskar/ocr/letter.data.gz\n",
      "Downloaded file:  letter.data.gz\n"
     ]
    }
   ],
   "source": [
    "download_data()"
   ]
  },
  {
   "cell_type": "code",
   "execution_count": 10,
   "metadata": {
    "collapsed": true,
    "deletable": true,
    "editable": true
   },
   "outputs": [],
   "source": [
    "def read_lines():\n",
    "    with gzip.open(DOWNLOADED_FILENAME, 'rt') as f:\n",
    "        reader = csv.reader(f, delimiter='\\t')\n",
    "        lines = list(reader)\n",
    "\n",
    "        return lines"
   ]
  },
  {
   "cell_type": "code",
   "execution_count": 11,
   "metadata": {
    "collapsed": true,
    "deletable": true,
    "editable": true
   },
   "outputs": [],
   "source": [
    "lines = read_lines()"
   ]
  },
  {
   "cell_type": "markdown",
   "metadata": {
    "deletable": true,
    "editable": true
   },
   "source": [
    "### Format of every line\n",
    "\n",
    "* id\n",
    "* letter\n",
    "* next_id\n",
    "* word_id\n",
    "* position\n",
    "* fold\n",
    "* 16x8 columns of pixel values\n",
    "\n",
    "*next_id = -1 when the current word has ended and the next character is the start of a new word*"
   ]
  },
  {
   "cell_type": "code",
   "execution_count": 86,
   "metadata": {
    "collapsed": false,
    "deletable": true,
    "editable": true
   },
   "outputs": [
    {
     "data": {
      "text/plain": [
       "['2',\n",
       " 'm',\n",
       " '3',\n",
       " '1',\n",
       " '2',\n",
       " '0',\n",
       " '0',\n",
       " '0',\n",
       " '0',\n",
       " '0',\n",
       " '0',\n",
       " '0',\n",
       " '0',\n",
       " '0',\n",
       " '0',\n",
       " '0',\n",
       " '0',\n",
       " '0',\n",
       " '0',\n",
       " '0']"
      ]
     },
     "execution_count": 86,
     "metadata": {},
     "output_type": "execute_result"
    }
   ],
   "source": [
    "lines[1][:20]"
   ]
  },
  {
   "cell_type": "code",
   "execution_count": 57,
   "metadata": {
    "collapsed": false,
    "deletable": true,
    "editable": true
   },
   "outputs": [
    {
     "data": {
      "text/plain": [
       "52152"
      ]
     },
     "execution_count": 57,
     "metadata": {},
     "output_type": "execute_result"
    }
   ],
   "source": [
    "len(lines)"
   ]
  },
  {
   "cell_type": "code",
   "execution_count": 21,
   "metadata": {
    "collapsed": true,
    "deletable": true,
    "editable": true
   },
   "outputs": [],
   "source": [
    "def get_features_labels(lines):\n",
    "    lines = sorted(lines, key=lambda x: int(x[0]))\n",
    "    data, target = [], []\n",
    "    \n",
    "    next_id = -1\n",
    "    \n",
    "    word = []\n",
    "    word_pixels = []\n",
    "\n",
    "    for line in lines:\n",
    "         # The index for the next_id column\n",
    "        next_id = int(line[2])\n",
    "\n",
    "        # An image for a single character, reshaped\n",
    "        pixels = np.array([int(x) for x in line[6:134]])\n",
    "        pixels = pixels.reshape((16, 8))\n",
    "        \n",
    "        # Word pixels are a list of 16x8 images which form a single word\n",
    "        word_pixels.append(pixels)\n",
    "        \n",
    "        # Append together the characters which make up a word\n",
    "        word.append(line[1])\n",
    "        \n",
    "        if next_id == -1:\n",
    "            data.append(word_pixels)\n",
    "            target.append(word)\n",
    "\n",
    "            word = []\n",
    "            word_pixels = []\n",
    "\n",
    "\n",
    "    return data, target"
   ]
  },
  {
   "cell_type": "code",
   "execution_count": 22,
   "metadata": {
    "collapsed": true,
    "deletable": true,
    "editable": true
   },
   "outputs": [],
   "source": [
    "data, target = get_features_labels(lines)"
   ]
  },
  {
   "cell_type": "markdown",
   "metadata": {
    "deletable": true,
    "editable": true
   },
   "source": [
    "#### The total number of words in our dataset"
   ]
  },
  {
   "cell_type": "code",
   "execution_count": 24,
   "metadata": {
    "collapsed": false,
    "deletable": true,
    "editable": true
   },
   "outputs": [
    {
     "data": {
      "text/plain": [
       "(6877, 6877)"
      ]
     },
     "execution_count": 24,
     "metadata": {},
     "output_type": "execute_result"
    }
   ],
   "source": [
    "len(data), len(target)"
   ]
  },
  {
   "cell_type": "markdown",
   "metadata": {
    "deletable": true,
    "editable": true
   },
   "source": [
    "#### All words lengths should be the same\n",
    "\n",
    "* Get every word to be the same length as the longest word in our dataset\n",
    "* Pad the words with empty characters"
   ]
  },
  {
   "cell_type": "code",
   "execution_count": 25,
   "metadata": {
    "collapsed": true,
    "deletable": true,
    "editable": true
   },
   "outputs": [],
   "source": [
    "def pad_features_labels(data, target):    \n",
    "    max_length = max(len(x) for x in target)\n",
    "    \n",
    "    # Set up image representations for the empty string (all pixels set to 0)\n",
    "    padding = np.zeros((16, 8))\n",
    "\n",
    "    # Pad the image data with the empty string images\n",
    "    data = [x + ([padding] * (max_length - len(x))) for x in data]\n",
    "    \n",
    "    # Pad the words with empty string characters\n",
    "    target = [x + ([''] * (max_length - len(x))) for x in target]\n",
    "    \n",
    "    return np.array(data), np.array(target)"
   ]
  },
  {
   "cell_type": "code",
   "execution_count": 26,
   "metadata": {
    "collapsed": true,
    "deletable": true,
    "editable": true
   },
   "outputs": [],
   "source": [
    "padded_data, padded_target = pad_features_labels(data, target)"
   ]
  },
  {
   "cell_type": "code",
   "execution_count": 27,
   "metadata": {
    "collapsed": false,
    "deletable": true,
    "editable": true
   },
   "outputs": [
    {
     "data": {
      "text/plain": [
       "array([['o', 'm', 'm', 'a', 'n', 'd', 'i', 'n', 'g', '', '', '', '', ''],\n",
       "       ['o', 'm', 'm', 'a', 'n', 'd', 'i', 'n', 'g', '', '', '', '', ''],\n",
       "       ['o', 'm', 'm', 'a', 'n', 'd', 'i', 'n', 'g', '', '', '', '', ''],\n",
       "       ['o', 'm', 'm', 'a', 'n', 'd', 'i', 'n', 'g', '', '', '', '', ''],\n",
       "       ['o', 'm', 'm', 'a', 'n', 'd', 'i', 'n', 'g', '', '', '', '', ''],\n",
       "       ['o', 'm', 'm', 'a', 'n', 'd', 'i', 'n', 'g', '', '', '', '', ''],\n",
       "       ['o', 'm', 'm', 'a', 'n', 'd', 'i', 'n', 'g', '', '', '', '', ''],\n",
       "       ['o', 'm', 'm', 'a', 'n', 'd', 'i', 'n', 'g', '', '', '', '', ''],\n",
       "       ['o', 'm', 'm', 'a', 'n', 'd', 'i', 'n', 'g', '', '', '', '', ''],\n",
       "       ['o', 'm', 'm', 'a', 'n', 'd', 'i', 'n', 'g', '', '', '', '', '']],\n",
       "      dtype='|S1')"
      ]
     },
     "execution_count": 27,
     "metadata": {},
     "output_type": "execute_result"
    }
   ],
   "source": [
    "padded_target[:10]"
   ]
  },
  {
   "cell_type": "code",
   "execution_count": 29,
   "metadata": {
    "collapsed": false,
    "deletable": true,
    "editable": true
   },
   "outputs": [
    {
     "data": {
      "text/plain": [
       "array([['m', 'b', 'r', 'a', 'c', 'e', 's', '', '', '', '', '', '', ''],\n",
       "       ['m', 'b', 'r', 'a', 'c', 'e', 's', '', '', '', '', '', '', ''],\n",
       "       ['m', 'b', 'r', 'a', 'c', 'e', 's', '', '', '', '', '', '', ''],\n",
       "       ['m', 'b', 'r', 'a', 'c', 'e', 's', '', '', '', '', '', '', ''],\n",
       "       ['m', 'b', 'r', 'a', 'c', 'e', 's', '', '', '', '', '', '', ''],\n",
       "       ['m', 'b', 'r', 'a', 'c', 'e', 's', '', '', '', '', '', '', ''],\n",
       "       ['m', 'b', 'r', 'a', 'c', 'e', 's', '', '', '', '', '', '', ''],\n",
       "       ['m', 'b', 'r', 'a', 'c', 'e', 's', '', '', '', '', '', '', ''],\n",
       "       ['m', 'b', 'r', 'a', 'c', 'e', 's', '', '', '', '', '', '', ''],\n",
       "       ['m', 'b', 'r', 'a', 'c', 'e', 's', '', '', '', '', '', '', '']],\n",
       "      dtype='|S1')"
      ]
     },
     "execution_count": 29,
     "metadata": {},
     "output_type": "execute_result"
    }
   ],
   "source": [
    "padded_target[200:210]"
   ]
  },
  {
   "cell_type": "markdown",
   "metadata": {
    "deletable": true,
    "editable": true
   },
   "source": [
    "#### The length of each sequence\n",
    "\n",
    "We've padded all words so that their lengths are all equal to the length of the longest word"
   ]
  },
  {
   "cell_type": "code",
   "execution_count": 51,
   "metadata": {
    "collapsed": true,
    "deletable": true,
    "editable": true
   },
   "outputs": [],
   "source": [
    "word_length = len(padded_target[0])"
   ]
  },
  {
   "cell_type": "code",
   "execution_count": 52,
   "metadata": {
    "collapsed": false,
    "deletable": true,
    "editable": true
   },
   "outputs": [
    {
     "data": {
      "text/plain": [
       "14"
      ]
     },
     "execution_count": 52,
     "metadata": {},
     "output_type": "execute_result"
    }
   ],
   "source": [
    "word_length"
   ]
  },
  {
   "cell_type": "markdown",
   "metadata": {
    "deletable": true,
    "editable": true
   },
   "source": [
    "#### Tensor shape\n",
    "\n",
    "* 6877 words\n",
    "* Each word padded to have 14 characters\n",
    "* Each character represented by 16x8 image"
   ]
  },
  {
   "cell_type": "code",
   "execution_count": 30,
   "metadata": {
    "collapsed": false,
    "deletable": true,
    "editable": true
   },
   "outputs": [
    {
     "data": {
      "text/plain": [
       "(6877, 14, 16, 8)"
      ]
     },
     "execution_count": 30,
     "metadata": {},
     "output_type": "execute_result"
    }
   ],
   "source": [
    "padded_data.shape"
   ]
  },
  {
   "cell_type": "code",
   "execution_count": 31,
   "metadata": {
    "collapsed": false,
    "deletable": true,
    "editable": true
   },
   "outputs": [
    {
     "data": {
      "text/plain": [
       "(6877, 14, -1)"
      ]
     },
     "execution_count": 31,
     "metadata": {},
     "output_type": "execute_result"
    }
   ],
   "source": [
    "padded_data.shape[:2] + (-1,)"
   ]
  },
  {
   "cell_type": "code",
   "execution_count": 32,
   "metadata": {
    "collapsed": false,
    "deletable": true,
    "editable": true
   },
   "outputs": [],
   "source": [
    "reshaped_data = padded_data.reshape(padded_data.shape[:2] + (-1,))"
   ]
  },
  {
   "cell_type": "markdown",
   "metadata": {
    "deletable": true,
    "editable": true
   },
   "source": [
    "#### Reshape the data so the image is a 1-D array of pixels"
   ]
  },
  {
   "cell_type": "code",
   "execution_count": 33,
   "metadata": {
    "collapsed": false,
    "deletable": true,
    "editable": true
   },
   "outputs": [
    {
     "data": {
      "text/plain": [
       "(6877, 14, 128)"
      ]
     },
     "execution_count": 33,
     "metadata": {},
     "output_type": "execute_result"
    }
   ],
   "source": [
    "reshaped_data.shape"
   ]
  },
  {
   "cell_type": "markdown",
   "metadata": {
    "deletable": true,
    "editable": true
   },
   "source": [
    "#### Tensor shape\n",
    "\n",
    "* 6877 words\n",
    "* Each an array with 14 characters (padded with empty strings as needed)"
   ]
  },
  {
   "cell_type": "code",
   "execution_count": 34,
   "metadata": {
    "collapsed": false,
    "deletable": true,
    "editable": true
   },
   "outputs": [
    {
     "data": {
      "text/plain": [
       "(6877, 14)"
      ]
     },
     "execution_count": 34,
     "metadata": {},
     "output_type": "execute_result"
    }
   ],
   "source": [
    "padded_target.shape"
   ]
  },
  {
   "cell_type": "markdown",
   "metadata": {
    "deletable": true,
    "editable": true
   },
   "source": [
    "#### One-hot representation\n",
    "\n",
    "* Each character has a feature vector of 26 (only lower case characters)"
   ]
  },
  {
   "cell_type": "code",
   "execution_count": 35,
   "metadata": {
    "collapsed": false,
    "deletable": true,
    "editable": true
   },
   "outputs": [
    {
     "data": {
      "text/plain": [
       "(6877, 14, 26)"
      ]
     },
     "execution_count": 35,
     "metadata": {},
     "output_type": "execute_result"
    }
   ],
   "source": [
    "padded_target.shape + (26,)"
   ]
  },
  {
   "cell_type": "code",
   "execution_count": 36,
   "metadata": {
    "collapsed": false,
    "deletable": true,
    "editable": true
   },
   "outputs": [],
   "source": [
    "one_hot_target = np.zeros(padded_target.shape + (26,))"
   ]
  },
  {
   "cell_type": "markdown",
   "metadata": {
    "deletable": true,
    "editable": true
   },
   "source": [
    "### Numpy.ndenumerate is a way to get all indices needed to access elements of a matrix\n",
    "<pre>\n",
    "a = numpy.array([[1,2],[3,4],[5,6]])\n",
    "for (x,y), value in numpy.ndenumerate(a):\n",
    "  print x,y \n",
    "</pre>\n",
    " \n",
    "0 0 <br>\n",
    "0 1 <br>\n",
    "1 0 <br>\n",
    "1 1 <br>\n",
    "2 0 <br>\n",
    "2 1 <br>"
   ]
  },
  {
   "cell_type": "code",
   "execution_count": 37,
   "metadata": {
    "collapsed": false,
    "deletable": true,
    "editable": true
   },
   "outputs": [],
   "source": [
    "for index, letter in np.ndenumerate(padded_target):\n",
    "    if letter:\n",
    "        one_hot_target[index][ord(letter) - ord('a')] = 1"
   ]
  },
  {
   "cell_type": "markdown",
   "metadata": {
    "deletable": true,
    "editable": true
   },
   "source": [
    "#### One-hot representation of the letter 'o'\n",
    "\n",
    "* The letter 'o' represented by a 1 at the 14th index \n",
    "* Index positions start at 0"
   ]
  },
  {
   "cell_type": "code",
   "execution_count": 42,
   "metadata": {
    "collapsed": false,
    "deletable": true,
    "editable": true
   },
   "outputs": [
    {
     "data": {
      "text/plain": [
       "array([ 0.,  0.,  0.,  0.,  0.,  0.,  0.,  0.,  0.,  0.,  0.,  0.,  0.,\n",
       "        0.,  1.,  0.,  0.,  0.,  0.,  0.,  0.,  0.,  0.,  0.,  0.,  0.])"
      ]
     },
     "execution_count": 42,
     "metadata": {},
     "output_type": "execute_result"
    }
   ],
   "source": [
    "one_hot_target[0][0]"
   ]
  },
  {
   "cell_type": "code",
   "execution_count": 43,
   "metadata": {
    "collapsed": false,
    "deletable": true,
    "editable": true
   },
   "outputs": [],
   "source": [
    "shuffled_indices = np.random.permutation(len(reshaped_data))\n",
    "\n",
    "shuffled_data = reshaped_data[shuffled_indices]\n",
    "shuffled_target = one_hot_target[shuffled_indices]"
   ]
  },
  {
   "cell_type": "markdown",
   "metadata": {
    "deletable": true,
    "editable": true
   },
   "source": [
    "#### Split into training and test data"
   ]
  },
  {
   "cell_type": "code",
   "execution_count": 44,
   "metadata": {
    "collapsed": true,
    "deletable": true,
    "editable": true
   },
   "outputs": [],
   "source": [
    "split = int(0.66 * len(shuffled_data))\n",
    "\n",
    "train_data = shuffled_data[:split]\n",
    "train_target = shuffled_target[:split]\n",
    "\n",
    "test_data = shuffled_data[split:]\n",
    "test_target = shuffled_target[split:]"
   ]
  },
  {
   "cell_type": "code",
   "execution_count": 45,
   "metadata": {
    "collapsed": false,
    "deletable": true,
    "editable": true
   },
   "outputs": [
    {
     "data": {
      "text/plain": [
       "(4538, 14, 128)"
      ]
     },
     "execution_count": 45,
     "metadata": {},
     "output_type": "execute_result"
    }
   ],
   "source": [
    "train_data.shape"
   ]
  },
  {
   "cell_type": "code",
   "execution_count": 46,
   "metadata": {
    "collapsed": false,
    "deletable": true,
    "editable": true
   },
   "outputs": [],
   "source": [
    "_, num_steps, num_inputs = train_data.shape"
   ]
  },
  {
   "cell_type": "code",
   "execution_count": 47,
   "metadata": {
    "collapsed": false,
    "deletable": true,
    "editable": true
   },
   "outputs": [
    {
     "data": {
      "text/plain": [
       "(4538, 14, 26)"
      ]
     },
     "execution_count": 47,
     "metadata": {},
     "output_type": "execute_result"
    }
   ],
   "source": [
    "train_target.shape"
   ]
  },
  {
   "cell_type": "code",
   "execution_count": 48,
   "metadata": {
    "collapsed": true,
    "deletable": true,
    "editable": true
   },
   "outputs": [],
   "source": [
    "num_classes = train_target.shape[2]"
   ]
  },
  {
   "cell_type": "code",
   "execution_count": 49,
   "metadata": {
    "collapsed": true,
    "deletable": true,
    "editable": true
   },
   "outputs": [],
   "source": [
    "tf.reset_default_graph()"
   ]
  },
  {
   "cell_type": "code",
   "execution_count": 50,
   "metadata": {
    "collapsed": true,
    "deletable": true,
    "editable": true
   },
   "outputs": [],
   "source": [
    "X = tf.placeholder(tf.float64, [None, num_steps, num_inputs])\n",
    "\n",
    "y = tf.placeholder(tf.float64, [None, num_steps, num_classes])"
   ]
  },
  {
   "cell_type": "markdown",
   "metadata": {
    "deletable": true,
    "editable": true
   },
   "source": [
    "#### Sequence length calculation\n",
    "\n",
    "*['How', 'are', 'you', 'doing'] ==> [14, 14, 14, 14] ==> [3, 3, 3, 5]*\n",
    " \n",
    " The actual length of each word (without the padding) in the input batch"
   ]
  },
  {
   "cell_type": "code",
   "execution_count": 89,
   "metadata": {
    "collapsed": false,
    "deletable": true,
    "editable": true
   },
   "outputs": [],
   "source": [
    "# All real characters will have a max value of 1, padded characters will be represented by 0s\n",
    "used = tf.sign(tf.reduce_max(tf.abs(X), reduction_indices=2))\n",
    "\n",
    "# Sum up the number of real characters for each word\n",
    "length = tf.reduce_sum(used, reduction_indices=1)\n",
    "sequence_length = tf.cast(length, tf.int32)"
   ]
  },
  {
   "cell_type": "code",
   "execution_count": 90,
   "metadata": {
    "collapsed": false,
    "deletable": true,
    "editable": true
   },
   "outputs": [
    {
     "data": {
      "text/plain": [
       "<tf.Tensor 'Cast_1:0' shape=(?,) dtype=int32>"
      ]
     },
     "execution_count": 90,
     "metadata": {},
     "output_type": "execute_result"
    }
   ],
   "source": [
    "sequence_length"
   ]
  },
  {
   "cell_type": "markdown",
   "metadata": {
    "deletable": true,
    "editable": true
   },
   "source": [
    "#### RNN for training and prediction"
   ]
  },
  {
   "cell_type": "code",
   "execution_count": 91,
   "metadata": {
    "collapsed": true,
    "deletable": true,
    "editable": true
   },
   "outputs": [],
   "source": [
    "num_neurons = 300"
   ]
  },
  {
   "cell_type": "code",
   "execution_count": 92,
   "metadata": {
    "collapsed": true,
    "deletable": true,
    "editable": true
   },
   "outputs": [],
   "source": [
    "cell = tf.nn.rnn_cell.GRUCell(num_neurons)"
   ]
  },
  {
   "cell_type": "markdown",
   "metadata": {
    "deletable": true,
    "editable": true
   },
   "source": [
    "#### *sequence_length* is the length of the valid input for each batch\n",
    "\n",
    "Included to improve accuracy and not for performance"
   ]
  },
  {
   "cell_type": "code",
   "execution_count": 93,
   "metadata": {
    "collapsed": false,
    "deletable": true,
    "editable": true
   },
   "outputs": [],
   "source": [
    "output, _ = tf.nn.dynamic_rnn(cell, X, dtype=tf.float64, sequence_length=sequence_length)"
   ]
  },
  {
   "cell_type": "code",
   "execution_count": 94,
   "metadata": {
    "collapsed": false,
    "deletable": true,
    "editable": true
   },
   "outputs": [
    {
     "data": {
      "text/plain": [
       "TensorShape([Dimension(None), Dimension(14), Dimension(300)])"
      ]
     },
     "execution_count": 94,
     "metadata": {},
     "output_type": "execute_result"
    }
   ],
   "source": [
    "output.shape"
   ]
  },
  {
   "cell_type": "markdown",
   "metadata": {
    "deletable": true,
    "editable": true
   },
   "source": [
    "#### Shared softmax layer"
   ]
  },
  {
   "cell_type": "code",
   "execution_count": 95,
   "metadata": {
    "collapsed": true,
    "deletable": true,
    "editable": true
   },
   "outputs": [],
   "source": [
    "weight = tf.Variable(tf.truncated_normal([num_neurons, num_classes], stddev=0.01, dtype=tf.float64))"
   ]
  },
  {
   "cell_type": "code",
   "execution_count": 96,
   "metadata": {
    "collapsed": false,
    "deletable": true,
    "editable": true
   },
   "outputs": [],
   "source": [
    "bias = tf.Variable(tf.constant(0.1, shape=[num_classes], dtype=tf.float64))"
   ]
  },
  {
   "cell_type": "code",
   "execution_count": 97,
   "metadata": {
    "collapsed": false,
    "deletable": true,
    "editable": true
   },
   "outputs": [],
   "source": [
    "flattened_output = tf.reshape(output, [-1, num_neurons])"
   ]
  },
  {
   "cell_type": "code",
   "execution_count": 98,
   "metadata": {
    "collapsed": false,
    "deletable": true,
    "editable": true
   },
   "outputs": [
    {
     "data": {
      "text/plain": [
       "<tf.Tensor 'Reshape:0' shape=(?, 300) dtype=float64>"
      ]
     },
     "execution_count": 98,
     "metadata": {},
     "output_type": "execute_result"
    }
   ],
   "source": [
    "flattened_output"
   ]
  },
  {
   "cell_type": "code",
   "execution_count": 99,
   "metadata": {
    "collapsed": false,
    "deletable": true,
    "editable": true
   },
   "outputs": [],
   "source": [
    "logits = tf.matmul(flattened_output, weight) + bias"
   ]
  },
  {
   "cell_type": "code",
   "execution_count": 100,
   "metadata": {
    "collapsed": false,
    "deletable": true,
    "editable": true
   },
   "outputs": [],
   "source": [
    "logits_reshaped = tf.reshape(logits, [-1, num_steps, num_classes])"
   ]
  },
  {
   "cell_type": "markdown",
   "metadata": {
    "deletable": true,
    "editable": true
   },
   "source": [
    "#### Cost calculation"
   ]
  },
  {
   "cell_type": "code",
   "execution_count": 101,
   "metadata": {
    "collapsed": true,
    "deletable": true,
    "editable": true
   },
   "outputs": [],
   "source": [
    "cross_entropy = tf.nn.softmax_cross_entropy_with_logits(logits=logits, labels=y)"
   ]
  },
  {
   "cell_type": "code",
   "execution_count": 102,
   "metadata": {
    "collapsed": false,
    "deletable": true,
    "editable": true
   },
   "outputs": [],
   "source": [
    "loss = tf.reduce_mean(cross_entropy)"
   ]
  },
  {
   "cell_type": "markdown",
   "metadata": {
    "deletable": true,
    "editable": true
   },
   "source": [
    "#### Error calculation\n",
    "\n",
    "* For every word calculate how many of the characters we predicted correctly\n",
    "* Use the mask to not consider (leave out) the padded characters on which our prediction was wrong\n",
    "* Find the fraction of each word where we made mistakes in our character prediction\n",
    "* Find the average fraction of each word that were mistakes"
   ]
  },
  {
   "cell_type": "code",
   "execution_count": 103,
   "metadata": {
    "collapsed": false,
    "deletable": true,
    "editable": true
   },
   "outputs": [],
   "source": [
    "mistakes = tf.not_equal(\n",
    "            tf.argmax(y, 2), tf.argmax(logits_reshaped, 2))\n",
    "mistakes = tf.cast(mistakes, tf.float64)\n",
    "mask = tf.sign(tf.reduce_max(tf.abs(y), reduction_indices=2))\n",
    "mistakes *= mask"
   ]
  },
  {
   "cell_type": "code",
   "execution_count": 104,
   "metadata": {
    "collapsed": false,
    "deletable": true,
    "editable": true
   },
   "outputs": [],
   "source": [
    "mistakes = tf.reduce_sum(mistakes, reduction_indices=1)\n",
    "mistakes /= tf.cast(sequence_length, tf.float64)"
   ]
  },
  {
   "cell_type": "code",
   "execution_count": 105,
   "metadata": {
    "collapsed": true,
    "deletable": true,
    "editable": true
   },
   "outputs": [],
   "source": [
    "error = tf.reduce_mean(mistakes)"
   ]
  },
  {
   "cell_type": "markdown",
   "metadata": {
    "deletable": true,
    "editable": true
   },
   "source": [
    "#### Optimizer"
   ]
  },
  {
   "cell_type": "code",
   "execution_count": 106,
   "metadata": {
    "collapsed": true,
    "deletable": true,
    "editable": true
   },
   "outputs": [],
   "source": [
    "optimizer = tf.train.RMSPropOptimizer(0.002)"
   ]
  },
  {
   "cell_type": "code",
   "execution_count": 107,
   "metadata": {
    "collapsed": false,
    "deletable": true,
    "editable": true
   },
   "outputs": [],
   "source": [
    "gradient = optimizer.compute_gradients(loss)"
   ]
  },
  {
   "cell_type": "code",
   "execution_count": 108,
   "metadata": {
    "collapsed": false,
    "deletable": true,
    "editable": true
   },
   "outputs": [],
   "source": [
    "optimize = optimizer.apply_gradients(gradient)"
   ]
  },
  {
   "cell_type": "code",
   "execution_count": 109,
   "metadata": {
    "collapsed": true,
    "deletable": true,
    "editable": true
   },
   "outputs": [],
   "source": [
    "def batched(data, target, batch_size):\n",
    "    epoch = 0\n",
    "    offset = 0\n",
    "    while True:\n",
    "        old_offset = offset\n",
    "        offset = (offset + batch_size) % (target.shape[0] - batch_size)\n",
    "\n",
    "        # Offset wrapped around to the beginning so new epoch\n",
    "        if offset < old_offset:\n",
    "            # New epoch, need to shuffle data\n",
    "            shuffled_indices = np.random.permutation(len(data))\n",
    "            \n",
    "            data = data[shuffled_indices]\n",
    "            target = target[shuffled_indices]\n",
    "\n",
    "            epoch += 1\n",
    "\n",
    "        batch_data = data[offset:(offset + batch_size), :]\n",
    "        \n",
    "        batch_target = target[offset:(offset + batch_size), :]\n",
    "\n",
    "        yield batch_data, batch_target, epoch"
   ]
  },
  {
   "cell_type": "code",
   "execution_count": 112,
   "metadata": {
    "collapsed": false,
    "deletable": true,
    "editable": true
   },
   "outputs": [],
   "source": [
    "batch_size = 20\n",
    "batches = batched(train_data, train_target, batch_size)"
   ]
  },
  {
   "cell_type": "code",
   "execution_count": 113,
   "metadata": {
    "collapsed": true,
    "deletable": true,
    "editable": true
   },
   "outputs": [],
   "source": [
    "epochs = 5"
   ]
  },
  {
   "cell_type": "code",
   "execution_count": 115,
   "metadata": {
    "collapsed": false,
    "deletable": true,
    "editable": true
   },
   "outputs": [
    {
     "name": "stdout",
     "output_type": "stream",
     "text": [
      "1: 96.583333%\n",
      "2: 95.914988%\n",
      "3: 97.821068%\n",
      "4: 95.753968%\n",
      "5: 97.372960%\n",
      "6: 96.351010%\n",
      "7: 97.309343%\n",
      "8: 92.599331%\n",
      "9: 94.103022%\n",
      "10: 96.088745%\n",
      "11: 95.781746%\n",
      "12: 93.341880%\n",
      "13: 94.309524%\n",
      "14: 94.196678%\n",
      "15: 96.071429%\n",
      "16: 89.782051%\n",
      "17: 96.294261%\n",
      "18: 92.630592%\n",
      "19: 90.522436%\n",
      "20: 91.716270%\n",
      "21: 94.833639%\n",
      "22: 91.726190%\n",
      "23: 92.932484%\n",
      "24: 96.240079%\n",
      "25: 92.460082%\n",
      "26: 96.136905%\n",
      "27: 90.755411%\n",
      "28: 93.200702%\n",
      "29: 91.381410%\n",
      "30: 92.591270%\n",
      "31: 93.324634%\n",
      "32: 92.805500%\n",
      "33: 92.071429%\n",
      "34: 88.527597%\n",
      "35: 92.923230%\n",
      "36: 95.047619%\n",
      "37: 93.162338%\n",
      "38: 86.604798%\n",
      "39: 87.661935%\n",
      "40: 90.579129%\n",
      "41: 88.511447%\n",
      "42: 83.691739%\n",
      "43: 87.890512%\n",
      "44: 87.976690%\n",
      "45: 88.795635%\n",
      "46: 85.392691%\n",
      "47: 88.473138%\n",
      "48: 87.504038%\n",
      "49: 94.057845%\n",
      "50: 85.924603%\n",
      "51: 88.858364%\n",
      "52: 89.178211%\n",
      "53: 87.222777%\n",
      "54: 88.154831%\n",
      "55: 89.041792%\n",
      "56: 84.340146%\n",
      "57: 91.188492%\n",
      "58: 80.779221%\n",
      "59: 88.959249%\n",
      "60: 85.103175%\n",
      "61: 89.428419%\n",
      "62: 82.689755%\n",
      "63: 87.763348%\n",
      "64: 86.910423%\n",
      "65: 88.488706%\n",
      "66: 84.039627%\n",
      "67: 88.072344%\n",
      "68: 88.120574%\n",
      "69: 91.003608%\n",
      "70: 83.851190%\n",
      "71: 88.994048%\n",
      "72: 86.213564%\n",
      "73: 86.738095%\n",
      "74: 88.663004%\n",
      "75: 86.275613%\n",
      "76: 84.442766%\n",
      "77: 89.184898%\n",
      "78: 85.242063%\n",
      "79: 84.109127%\n",
      "80: 82.809829%\n",
      "81: 87.608586%\n",
      "82: 78.129149%\n",
      "83: 85.194639%\n",
      "84: 83.392857%\n",
      "85: 77.662546%\n",
      "86: 84.117979%\n",
      "87: 74.466062%\n",
      "88: 84.331654%\n",
      "89: 90.095183%\n",
      "90: 82.773046%\n",
      "91: 80.847250%\n",
      "92: 76.247294%\n",
      "93: 82.428114%\n",
      "94: 79.378427%\n",
      "95: 85.132576%\n",
      "96: 87.492369%\n",
      "97: 87.382035%\n",
      "98: 89.470238%\n",
      "99: 89.166126%\n",
      "100: 87.253788%\n",
      "101: 89.409812%\n",
      "102: 85.496032%\n",
      "103: 82.066392%\n",
      "104: 86.444444%\n",
      "105: 82.570471%\n",
      "106: 83.483586%\n",
      "107: 79.440851%\n",
      "108: 86.208278%\n",
      "109: 92.293110%\n",
      "110: 84.533730%\n",
      "111: 80.554654%\n",
      "112: 80.377054%\n",
      "113: 80.948413%\n",
      "114: 90.974206%\n",
      "115: 80.603632%\n",
      "116: 82.262279%\n",
      "117: 80.584055%\n",
      "118: 79.095307%\n",
      "119: 80.246642%\n",
      "120: 85.884199%\n",
      "121: 80.378885%\n",
      "122: 75.644689%\n",
      "123: 71.686341%\n",
      "124: 74.125000%\n",
      "125: 77.227717%\n",
      "126: 76.597597%\n",
      "127: 81.812424%\n",
      "128: 78.002539%\n",
      "129: 81.101190%\n",
      "130: 77.983003%\n",
      "131: 79.090188%\n",
      "132: 77.326923%\n",
      "133: 70.636142%\n",
      "134: 74.747475%\n",
      "135: 73.618132%\n",
      "136: 72.608960%\n",
      "137: 76.833250%\n",
      "138: 73.882534%\n",
      "139: 70.172466%\n",
      "140: 74.330808%\n",
      "141: 71.645299%\n",
      "142: 69.986389%\n",
      "143: 69.414683%\n",
      "144: 71.299700%\n",
      "145: 66.683442%\n",
      "146: 75.802850%\n",
      "147: 62.753816%\n",
      "148: 67.557540%\n",
      "149: 73.640873%\n",
      "150: 62.505952%\n",
      "151: 64.136544%\n",
      "152: 61.100427%\n",
      "153: 73.456543%\n",
      "154: 59.793803%\n",
      "155: 61.002844%\n",
      "156: 70.576479%\n",
      "157: 54.490440%\n",
      "158: 57.528458%\n",
      "159: 54.132770%\n",
      "160: 58.136364%\n",
      "161: 53.864469%\n",
      "162: 67.329365%\n",
      "163: 60.406288%\n",
      "164: 50.177670%\n",
      "165: 57.232143%\n",
      "166: 49.874237%\n",
      "167: 60.132173%\n",
      "168: 44.968226%\n",
      "169: 52.722222%\n",
      "170: 55.590881%\n",
      "171: 47.859127%\n",
      "172: 49.712843%\n",
      "173: 44.874098%\n",
      "174: 45.117244%\n",
      "175: 41.831169%\n",
      "176: 36.322511%\n",
      "177: 44.470987%\n",
      "178: 35.947150%\n",
      "179: 29.945707%\n",
      "180: 32.351648%\n",
      "181: 41.357337%\n",
      "182: 37.435953%\n",
      "183: 36.351648%\n",
      "184: 37.597472%\n",
      "185: 42.447691%\n",
      "186: 47.632479%\n",
      "187: 35.463106%\n",
      "188: 32.018218%\n",
      "189: 33.584055%\n",
      "190: 43.995463%\n",
      "191: 46.312729%\n",
      "192: 40.783369%\n",
      "193: 34.040224%\n",
      "194: 32.681013%\n",
      "195: 30.593795%\n",
      "196: 41.620713%\n",
      "197: 29.835775%\n",
      "198: 33.997114%\n",
      "199: 31.452381%\n",
      "200: 18.704365%\n",
      "201: 31.720543%\n",
      "202: 32.570915%\n",
      "203: 36.266442%\n",
      "204: 33.419372%\n",
      "205: 31.172661%\n",
      "206: 28.541667%\n",
      "207: 30.893024%\n",
      "208: 32.847222%\n",
      "209: 28.180556%\n",
      "210: 34.951118%\n",
      "211: 33.708153%\n",
      "212: 30.001512%\n",
      "213: 34.963786%\n",
      "214: 32.419913%\n",
      "215: 27.672772%\n",
      "216: 32.111111%\n",
      "217: 38.553599%\n",
      "218: 34.557540%\n",
      "219: 24.080087%\n",
      "220: 24.423840%\n",
      "221: 29.839286%\n",
      "222: 31.561674%\n",
      "223: 18.146978%\n",
      "224: 33.435967%\n",
      "225: 22.323413%\n",
      "226: 33.412546%\n",
      "227: 24.968240%\n",
      "228: 17.433622%\n",
      "229: 25.628705%\n",
      "230: 26.447608%\n",
      "231: 23.798368%\n",
      "232: 30.575397%\n",
      "233: 14.928571%\n",
      "234: 20.508658%\n",
      "235: 23.524267%\n",
      "236: 24.556915%\n",
      "237: 17.619949%\n",
      "238: 23.488636%\n",
      "239: 34.934829%\n",
      "240: 16.809982%\n",
      "241: 27.148490%\n",
      "242: 21.848041%\n",
      "243: 14.466728%\n",
      "244: 27.602106%\n",
      "245: 17.265263%\n",
      "246: 17.540751%\n",
      "247: 20.388126%\n",
      "248: 17.570402%\n",
      "249: 21.462704%\n",
      "250: 28.194444%\n",
      "251: 19.274351%\n",
      "252: 17.459887%\n",
      "253: 30.471390%\n",
      "254: 25.277930%\n",
      "255: 19.283189%\n",
      "256: 26.150794%\n",
      "257: 29.952381%\n",
      "258: 22.474664%\n",
      "259: 19.883936%\n",
      "260: 21.044372%\n",
      "261: 25.309482%\n",
      "262: 14.111097%\n",
      "263: 23.160700%\n",
      "264: 23.337302%\n",
      "265: 16.153846%\n",
      "266: 22.895230%\n",
      "267: 22.415446%\n",
      "268: 16.689033%\n",
      "269: 22.955739%\n",
      "270: 16.935065%\n",
      "271: 17.843559%\n",
      "272: 22.353175%\n",
      "273: 11.463980%\n",
      "274: 21.004329%\n",
      "275: 18.738858%\n",
      "276: 15.534382%\n",
      "277: 19.313853%\n",
      "278: 19.810606%\n",
      "279: 18.359460%\n",
      "280: 26.242424%\n",
      "281: 18.713828%\n",
      "282: 19.137668%\n",
      "283: 18.832473%\n",
      "284: 21.859779%\n",
      "285: 15.248557%\n",
      "286: 13.283411%\n",
      "287: 19.905123%\n",
      "288: 26.567460%\n",
      "289: 11.508478%\n",
      "290: 24.744700%\n",
      "291: 24.540446%\n",
      "292: 9.133700%\n",
      "293: 10.466450%\n",
      "294: 17.840007%\n",
      "295: 17.054113%\n",
      "296: 28.993437%\n",
      "297: 13.290404%\n",
      "298: 13.972403%\n",
      "299: 10.111111%\n",
      "300: 16.555556%\n",
      "301: 12.494589%\n",
      "302: 20.575327%\n",
      "303: 14.223901%\n",
      "304: 17.593254%\n",
      "305: 18.784674%\n",
      "306: 14.605159%\n",
      "307: 13.648810%\n",
      "308: 14.904762%\n",
      "309: 18.781746%\n",
      "310: 19.841270%\n",
      "311: 15.706349%\n",
      "312: 11.367827%\n",
      "313: 23.300241%\n",
      "314: 13.897908%\n",
      "315: 16.303571%\n",
      "316: 13.422064%\n",
      "317: 16.400794%\n",
      "318: 19.370296%\n",
      "319: 18.737790%\n",
      "320: 12.530483%\n",
      "321: 17.384921%\n",
      "322: 16.456349%\n",
      "323: 17.327381%\n",
      "324: 8.918706%\n",
      "325: 9.037698%\n",
      "326: 15.624958%\n",
      "327: 12.347375%\n",
      "328: 22.082071%\n",
      "329: 19.484488%\n",
      "330: 10.116453%\n",
      "331: 8.986111%\n",
      "332: 13.912698%\n",
      "333: 4.700577%\n",
      "334: 12.702853%\n",
      "335: 13.162449%\n",
      "336: 17.721612%\n",
      "337: 21.354243%\n",
      "338: 12.317821%\n",
      "339: 14.712302%\n",
      "340: 8.851066%\n",
      "341: 10.175144%\n",
      "342: 14.320513%\n",
      "343: 12.293706%\n",
      "344: 11.039377%\n",
      "345: 19.839286%\n",
      "346: 19.155123%\n",
      "347: 13.824495%\n",
      "348: 14.278499%\n",
      "349: 13.130647%\n",
      "350: 10.507021%\n",
      "351: 9.186203%\n",
      "352: 13.073593%\n",
      "353: 14.732906%\n",
      "354: 14.661616%\n",
      "355: 11.357143%\n",
      "356: 18.055556%\n",
      "357: 8.605311%\n",
      "358: 21.010823%\n",
      "359: 10.246795%\n",
      "360: 15.902778%\n",
      "361: 9.424603%\n",
      "362: 12.041667%\n",
      "363: 13.027778%\n",
      "364: 15.155816%\n",
      "365: 4.950397%\n",
      "366: 10.671898%\n",
      "367: 13.758658%\n",
      "368: 21.502040%\n",
      "369: 10.266053%\n",
      "370: 10.109488%\n",
      "371: 7.056624%\n",
      "372: 6.797619%\n",
      "373: 11.635101%\n",
      "374: 14.586081%\n",
      "375: 7.912698%\n",
      "376: 9.049173%\n",
      "377: 12.858142%\n",
      "378: 13.363095%\n",
      "379: 8.389222%\n",
      "380: 11.630952%\n",
      "381: 8.485986%\n",
      "382: 8.880952%\n",
      "383: 5.708333%\n",
      "384: 8.597222%\n",
      "385: 6.075397%\n",
      "386: 9.609127%\n",
      "387: 6.257631%\n",
      "388: 8.790043%\n",
      "389: 7.297009%\n",
      "390: 7.658120%\n",
      "391: 11.579060%\n",
      "392: 10.139957%\n",
      "393: 11.863511%\n",
      "394: 13.208333%\n",
      "395: 5.154457%\n",
      "396: 11.426587%\n",
      "397: 16.258297%\n",
      "398: 13.200397%\n",
      "399: 9.505952%\n",
      "400: 9.620726%\n",
      "401: 17.806319%\n",
      "402: 20.673993%\n",
      "403: 10.874875%\n",
      "404: 25.436508%\n",
      "405: 12.581044%\n",
      "406: 7.916667%\n",
      "407: 15.816017%\n",
      "408: 7.734127%\n",
      "409: 12.354853%\n",
      "410: 8.561508%\n",
      "411: 8.944444%\n",
      "412: 7.811508%\n",
      "413: 8.974969%\n",
      "414: 18.020202%\n",
      "415: 11.905123%\n",
      "416: 11.115190%\n",
      "417: 9.417208%\n",
      "418: 20.334776%\n",
      "419: 12.911838%\n",
      "420: 20.057900%\n",
      "421: 13.478535%\n",
      "422: 10.621795%\n",
      "423: 7.307234%\n",
      "424: 9.347763%\n",
      "425: 6.952922%\n",
      "426: 10.630647%\n",
      "427: 8.337302%\n",
      "428: 12.880952%\n",
      "429: 11.793651%\n",
      "430: 13.458930%\n",
      "431: 20.956044%\n",
      "432: 13.773504%\n",
      "433: 14.152237%\n",
      "434: 20.426587%\n",
      "435: 7.094322%\n",
      "436: 8.793651%\n",
      "437: 10.448926%\n",
      "438: 9.489344%\n",
      "439: 1.875000%\n",
      "440: 13.685897%\n",
      "441: 8.293651%\n",
      "442: 15.375000%\n",
      "443: 8.585317%\n",
      "444: 12.460317%\n",
      "445: 9.186508%\n",
      "446: 8.269231%\n",
      "447: 9.791667%\n",
      "448: 11.818529%\n",
      "449: 12.876984%\n",
      "450: 11.036616%\n",
      "451: 5.942460%\n",
      "452: 11.186966%\n",
      "453: 4.565657%\n",
      "454: 9.872405%\n",
      "455: 7.902778%\n",
      "456: 10.577381%\n",
      "457: 19.513889%\n",
      "458: 12.386294%\n",
      "459: 22.102273%\n",
      "460: 10.149573%\n",
      "461: 8.553571%\n",
      "462: 8.815476%\n",
      "463: 13.650794%\n",
      "464: 9.676879%\n",
      "465: 5.222222%\n",
      "466: 9.479243%\n",
      "467: 12.450092%\n",
      "468: 12.539683%\n",
      "469: 4.865079%\n",
      "470: 10.436203%\n",
      "471: 7.738095%\n",
      "472: 5.331890%\n",
      "473: 8.353175%\n",
      "474: 14.094628%\n",
      "475: 19.700577%\n",
      "476: 12.179043%\n",
      "477: 6.291667%\n",
      "478: 3.333333%\n",
      "479: 1.500000%\n",
      "480: 10.235806%\n",
      "481: 12.121212%\n",
      "482: 7.992424%\n",
      "483: 9.454060%\n",
      "484: 8.500000%\n",
      "485: 6.902320%\n",
      "486: 4.585859%\n",
      "487: 7.070513%\n",
      "488: 7.825397%\n",
      "489: 6.394231%\n",
      "490: 13.551587%\n",
      "491: 5.702742%\n",
      "492: 13.015873%\n",
      "493: 9.511600%\n",
      "494: 12.420871%\n",
      "495: 7.349747%\n",
      "496: 11.527778%\n",
      "497: 11.426768%\n",
      "498: 13.405886%\n",
      "499: 7.486111%\n",
      "500: 6.479243%\n",
      "501: 9.761905%\n",
      "502: 7.860806%\n",
      "503: 7.094628%\n",
      "504: 10.786255%\n",
      "505: 14.885101%\n",
      "506: 13.230159%\n",
      "507: 6.075397%\n",
      "508: 5.335498%\n",
      "509: 5.825758%\n",
      "510: 10.923882%\n",
      "511: 9.310897%\n",
      "512: 5.158911%\n",
      "513: 8.888889%\n",
      "514: 14.880952%\n",
      "515: 5.549659%\n",
      "516: 13.258117%\n",
      "517: 4.027778%\n",
      "518: 3.416667%\n",
      "519: 4.166667%\n",
      "520: 4.908120%\n",
      "521: 13.547009%\n",
      "522: 7.617244%\n",
      "523: 6.530303%\n",
      "524: 4.484848%\n",
      "525: 6.601190%\n",
      "526: 11.031746%\n",
      "527: 5.880952%\n",
      "528: 5.965659%\n",
      "529: 6.233211%\n",
      "530: 14.644231%\n",
      "531: 5.291667%\n",
      "532: 1.329365%\n",
      "533: 7.172314%\n",
      "534: 3.041667%\n",
      "535: 3.985806%\n",
      "536: 9.519841%\n",
      "537: 10.222222%\n",
      "538: 4.936508%\n",
      "539: 7.886780%\n",
      "540: 1.180556%\n",
      "541: 6.474081%\n",
      "542: 4.888889%\n",
      "543: 4.186508%\n",
      "544: 7.291667%\n",
      "545: 6.143218%\n",
      "546: 6.830087%\n",
      "547: 8.990260%\n",
      "548: 7.888889%\n",
      "549: 3.819680%\n",
      "550: 7.208333%\n",
      "551: 4.248377%\n",
      "552: 5.947802%\n",
      "553: 6.329365%\n",
      "554: 5.603175%\n",
      "555: 8.353175%\n",
      "556: 6.723901%\n",
      "557: 8.440476%\n",
      "558: 4.047619%\n",
      "559: 10.074786%\n",
      "560: 10.934524%\n",
      "561: 5.301768%\n",
      "562: 5.575092%\n",
      "563: 6.392427%\n",
      "564: 9.865079%\n",
      "565: 10.472222%\n",
      "566: 3.585859%\n",
      "567: 3.979853%\n",
      "568: 7.633478%\n",
      "569: 15.164863%\n",
      "570: 7.186203%\n",
      "571: 6.349206%\n",
      "572: 4.388889%\n",
      "573: 5.595599%\n",
      "574: 5.829060%\n",
      "575: 7.043651%\n",
      "576: 8.561508%\n",
      "577: 2.380952%\n",
      "578: 6.009921%\n",
      "579: 8.434524%\n",
      "580: 10.384615%\n",
      "581: 9.815476%\n",
      "582: 6.363276%\n",
      "583: 7.311508%\n",
      "584: 5.833333%\n",
      "585: 8.388889%\n",
      "586: 6.623377%\n",
      "587: 6.944444%\n",
      "588: 8.493132%\n",
      "589: 4.799603%\n",
      "590: 3.827076%\n",
      "591: 6.764069%\n",
      "592: 4.839286%\n",
      "593: 7.237790%\n",
      "594: 6.177656%\n",
      "595: 6.736111%\n",
      "596: 11.597222%\n",
      "597: 5.000000%\n",
      "598: 6.849206%\n",
      "599: 10.216450%\n",
      "600: 1.964286%\n",
      "601: 6.011905%\n",
      "602: 5.936508%\n",
      "603: 7.609002%\n",
      "604: 7.984127%\n",
      "605: 10.547619%\n",
      "606: 7.650794%\n",
      "607: 5.216450%\n",
      "608: 3.347222%\n",
      "609: 11.666667%\n",
      "610: 6.574537%\n",
      "611: 11.704365%\n",
      "612: 0.500000%\n",
      "613: 10.638889%\n",
      "614: 4.720238%\n",
      "615: 8.021825%\n",
      "616: 7.196429%\n",
      "617: 5.567821%\n",
      "618: 7.666667%\n",
      "619: 9.880037%\n",
      "620: 8.301282%\n",
      "621: 4.787879%\n",
      "622: 1.666667%\n",
      "623: 7.291667%\n",
      "624: 8.688908%\n",
      "625: 5.915751%\n",
      "626: 6.087662%\n",
      "627: 4.583333%\n",
      "628: 3.232323%\n",
      "629: 6.436508%\n",
      "630: 6.960193%\n",
      "631: 1.458333%\n",
      "632: 8.561508%\n",
      "633: 2.023810%\n",
      "634: 3.391053%\n",
      "635: 13.380952%\n",
      "636: 16.803571%\n",
      "637: 6.166667%\n",
      "638: 9.408425%\n",
      "639: 7.317460%\n",
      "640: 3.685897%\n",
      "641: 11.218851%\n",
      "642: 2.539683%\n",
      "643: 11.041667%\n",
      "644: 3.321123%\n",
      "645: 9.258117%\n",
      "646: 5.339286%\n",
      "647: 1.723901%\n",
      "648: 6.428571%\n",
      "649: 8.964646%\n",
      "650: 2.930556%\n",
      "651: 10.833333%\n",
      "652: 5.611111%\n",
      "653: 8.030303%\n",
      "654: 9.690171%\n",
      "655: 5.315171%\n",
      "656: 9.722222%\n",
      "657: 10.320513%\n",
      "658: 5.589286%\n",
      "659: 8.049173%\n",
      "660: 4.140568%\n",
      "661: 5.829545%\n",
      "662: 5.666667%\n",
      "663: 6.250000%\n",
      "664: 3.738095%\n",
      "665: 8.591270%\n",
      "666: 4.740260%\n",
      "667: 9.249084%\n",
      "668: 5.834402%\n",
      "669: 7.717949%\n",
      "670: 9.053571%\n",
      "671: 9.222222%\n",
      "672: 4.889069%\n",
      "673: 2.797619%\n",
      "674: 6.634615%\n",
      "675: 7.672619%\n",
      "676: 12.343434%\n",
      "677: 4.630952%\n",
      "678: 9.375000%\n",
      "679: 0.555556%\n",
      "680: 9.459707%\n",
      "681: 7.404762%\n",
      "682: 6.075758%\n",
      "683: 4.662698%\n",
      "684: 4.967949%\n",
      "685: 5.428571%\n",
      "686: 2.932234%\n",
      "687: 6.178266%\n",
      "688: 3.231838%\n",
      "689: 5.880952%\n",
      "690: 9.305556%\n",
      "691: 4.419192%\n",
      "692: 12.307540%\n",
      "693: 4.583333%\n",
      "694: 6.667735%\n",
      "695: 7.658730%\n",
      "696: 6.704545%\n",
      "697: 6.388889%\n",
      "698: 6.353175%\n",
      "699: 7.666667%\n",
      "700: 7.190476%\n",
      "701: 11.067821%\n",
      "702: 5.236111%\n",
      "703: 5.343434%\n",
      "704: 7.949786%\n",
      "705: 4.603175%\n",
      "706: 7.910714%\n",
      "707: 8.168831%\n",
      "708: 6.250000%\n",
      "709: 8.813187%\n",
      "710: 9.949176%\n",
      "711: 11.455739%\n",
      "712: 4.166667%\n",
      "713: 9.138889%\n",
      "714: 9.592949%\n",
      "715: 2.388889%\n",
      "716: 9.155303%\n",
      "717: 4.111111%\n",
      "718: 5.000000%\n",
      "719: 6.011905%\n",
      "720: 5.634921%\n",
      "721: 14.973901%\n",
      "722: 2.430556%\n",
      "723: 6.587302%\n",
      "724: 12.083333%\n",
      "725: 5.499389%\n",
      "726: 3.680556%\n",
      "727: 3.595238%\n",
      "728: 6.833333%\n",
      "729: 6.567821%\n",
      "730: 5.325092%\n",
      "731: 6.011905%\n",
      "732: 4.687882%\n",
      "733: 3.988095%\n",
      "734: 2.103175%\n",
      "735: 5.111111%\n",
      "736: 9.659091%\n",
      "737: 3.555556%\n",
      "738: 7.422009%\n",
      "739: 11.523810%\n",
      "740: 6.361111%\n",
      "741: 8.505952%\n",
      "742: 5.992063%\n",
      "743: 11.595238%\n",
      "744: 2.500000%\n",
      "745: 1.942641%\n",
      "746: 4.291667%\n",
      "747: 6.936508%\n",
      "748: 5.126374%\n",
      "749: 1.527778%\n",
      "750: 4.944444%\n",
      "751: 5.851190%\n",
      "752: 4.440171%\n",
      "753: 8.767857%\n",
      "754: 4.075092%\n",
      "755: 4.217949%\n",
      "756: 1.685897%\n",
      "757: 1.436688%\n",
      "758: 4.714286%\n",
      "759: 3.182234%\n",
      "760: 3.958333%\n",
      "761: 0.555556%\n",
      "762: 4.166667%\n",
      "763: 2.626984%\n",
      "764: 7.178932%\n",
      "765: 5.700758%\n",
      "766: 4.402778%\n",
      "767: 4.444444%\n",
      "768: 2.886905%\n",
      "769: 2.714286%\n",
      "770: 7.394231%\n",
      "771: 5.674603%\n",
      "772: 1.625000%\n",
      "773: 10.291667%\n",
      "774: 7.305556%\n",
      "775: 1.071429%\n",
      "776: 6.714286%\n",
      "777: 1.000000%\n",
      "778: 2.978355%\n",
      "779: 5.168651%\n",
      "780: 2.291667%\n",
      "781: 4.938187%\n",
      "782: 9.315476%\n",
      "783: 0.555556%\n",
      "784: 4.834402%\n",
      "785: 3.380952%\n",
      "786: 3.134921%\n",
      "787: 4.867424%\n",
      "788: 8.873016%\n",
      "789: 5.724206%\n",
      "790: 5.935245%\n",
      "791: 6.186203%\n",
      "792: 0.714286%\n",
      "793: 4.392857%\n",
      "794: 4.575092%\n",
      "795: 3.561508%\n",
      "796: 7.648810%\n",
      "797: 3.968254%\n",
      "798: 9.557720%\n",
      "799: 6.555556%\n",
      "800: 5.505952%\n",
      "801: 7.500000%\n",
      "802: 7.178447%\n",
      "803: 5.458333%\n",
      "804: 13.134921%\n",
      "805: 6.515873%\n",
      "806: 14.390568%\n",
      "807: 2.648810%\n",
      "808: 4.946123%\n",
      "809: 4.347222%\n",
      "810: 5.075272%\n",
      "811: 3.896825%\n",
      "812: 6.393093%\n",
      "813: 6.746032%\n",
      "814: 3.484127%\n",
      "815: 1.714286%\n",
      "816: 5.095238%\n",
      "817: 3.690476%\n",
      "818: 6.339286%\n",
      "819: 0.416667%\n",
      "820: 3.930556%\n",
      "821: 6.654457%\n",
      "822: 4.513889%\n",
      "823: 8.222403%\n",
      "824: 6.347222%\n",
      "825: 2.666667%\n",
      "826: 6.458333%\n",
      "827: 7.166667%\n",
      "828: 6.190476%\n",
      "829: 5.154457%\n",
      "830: 4.964286%\n",
      "831: 1.190476%\n",
      "832: 2.672619%\n",
      "833: 4.936383%\n",
      "834: 9.291667%\n",
      "835: 1.666667%\n",
      "836: 2.852869%\n",
      "837: 3.833333%\n",
      "838: 6.111111%\n",
      "839: 7.928571%\n",
      "840: 6.152778%\n",
      "841: 6.638889%\n",
      "842: 4.722222%\n",
      "843: 1.190476%\n",
      "844: 1.339286%\n",
      "845: 3.926282%\n",
      "846: 6.250000%\n",
      "847: 3.611111%\n",
      "848: 6.547619%\n",
      "849: 6.315476%\n",
      "850: 1.668831%\n",
      "851: 8.087052%\n",
      "852: 6.333333%\n",
      "853: 6.750541%\n",
      "854: 4.736111%\n",
      "855: 5.727564%\n",
      "856: 6.158730%\n",
      "857: 1.984127%\n",
      "858: 6.853175%\n",
      "859: 1.843434%\n",
      "860: 5.000000%\n",
      "861: 2.269841%\n",
      "862: 4.722222%\n",
      "863: 3.932234%\n",
      "864: 3.809524%\n",
      "865: 8.445513%\n",
      "866: 1.714286%\n",
      "867: 6.083333%\n",
      "868: 8.000000%\n",
      "869: 3.321123%\n",
      "870: 6.666667%\n",
      "871: 4.444444%\n",
      "872: 3.214286%\n",
      "873: 2.388889%\n",
      "874: 3.125000%\n",
      "875: 4.343434%\n",
      "876: 1.555556%\n",
      "877: 5.368742%\n",
      "878: 4.412393%\n",
      "879: 4.722222%\n",
      "880: 6.204365%\n",
      "881: 1.625000%\n",
      "882: 2.380952%\n",
      "883: 1.982143%\n",
      "884: 11.321123%\n",
      "885: 2.079545%\n",
      "886: 10.273504%\n",
      "887: 6.746032%\n",
      "888: 4.384921%\n",
      "889: 4.958333%\n",
      "890: 4.065171%\n",
      "891: 2.111111%\n",
      "892: 1.607143%\n",
      "893: 2.857143%\n",
      "894: 9.787393%\n",
      "895: 5.347222%\n",
      "896: 8.807540%\n",
      "897: 5.513889%\n",
      "898: 1.527778%\n",
      "899: 3.666667%\n",
      "900: 2.000000%\n",
      "901: 4.551282%\n",
      "902: 9.708333%\n",
      "903: 4.388889%\n",
      "904: 1.875000%\n",
      "905: 4.122405%\n",
      "906: 7.580128%\n",
      "907: 4.547619%\n",
      "908: 3.998252%\n",
      "909: 7.817641%\n",
      "910: 4.680556%\n",
      "911: 2.565657%\n",
      "912: 6.408730%\n",
      "913: 2.666667%\n",
      "914: 0.625000%\n",
      "915: 6.690657%\n",
      "916: 5.227564%\n",
      "917: 3.277778%\n",
      "918: 8.228175%\n",
      "919: 0.000000%\n",
      "920: 5.824786%\n",
      "921: 5.833333%\n",
      "922: 10.523810%\n",
      "923: 8.799534%\n",
      "924: 2.686508%\n",
      "925: 5.011655%\n",
      "926: 5.172494%\n",
      "927: 4.960317%\n",
      "928: 2.575758%\n",
      "929: 2.936508%\n",
      "930: 4.547619%\n",
      "931: 10.277778%\n",
      "932: 6.329365%\n",
      "933: 5.916667%\n",
      "934: 2.787698%\n",
      "935: 3.289377%\n",
      "936: 6.678571%\n",
      "937: 5.652778%\n",
      "938: 2.565657%\n",
      "939: 8.964286%\n",
      "940: 7.023810%\n",
      "941: 3.144841%\n",
      "942: 4.585498%\n",
      "943: 2.666667%\n",
      "944: 9.273504%\n",
      "945: 11.324786%\n",
      "946: 5.731838%\n",
      "947: 1.666667%\n",
      "948: 2.555556%\n",
      "949: 8.035714%\n",
      "950: 2.916667%\n",
      "951: 5.215354%\n",
      "952: 4.865079%\n",
      "953: 10.000000%\n",
      "954: 4.801587%\n",
      "955: 1.079545%\n",
      "956: 2.260101%\n",
      "957: 4.509615%\n",
      "958: 0.000000%\n",
      "959: 9.990079%\n",
      "960: 5.672619%\n",
      "961: 9.789683%\n",
      "962: 6.780303%\n",
      "963: 3.666667%\n",
      "964: 0.714286%\n",
      "965: 16.339286%\n",
      "966: 2.931929%\n",
      "967: 7.773810%\n",
      "968: 5.412698%\n",
      "969: 4.432234%\n",
      "Test error: 8.090309%\n"
     ]
    }
   ],
   "source": [
    "with tf.Session() as sess:\n",
    "    \n",
    "    sess.run(tf.global_variables_initializer())\n",
    "\n",
    "    for index, batch in enumerate(batches):\n",
    "        batch_data = batch[0]\n",
    "        batch_target = batch[1]\n",
    "    \n",
    "        epoch = batch[2]\n",
    "\n",
    "        if epoch >= epochs:\n",
    "            break\n",
    "        \n",
    "        feed = {X: batch_data, y: batch_target}\n",
    "        train_error, _ = sess.run([error, optimize], feed)\n",
    "        \n",
    "        print('{}: {:3.6f}%'.format(index + 1, 100 * train_error))\n",
    "\n",
    "    test_feed = {X: test_data, y: test_target}\n",
    "    test_error, _ = sess.run([error, optimize], test_feed)\n",
    "    \n",
    "    print('Test error: {:3.6f}%'.format(100 * test_error))"
   ]
  },
  {
   "cell_type": "code",
   "execution_count": null,
   "metadata": {
    "collapsed": true,
    "deletable": true,
    "editable": true
   },
   "outputs": [],
   "source": []
  }
 ],
 "metadata": {
  "kernelspec": {
   "display_name": "Python 2",
   "language": "python",
   "name": "python2"
  },
  "language_info": {
   "codemirror_mode": {
    "name": "ipython",
    "version": 2
   },
   "file_extension": ".py",
   "mimetype": "text/x-python",
   "name": "python",
   "nbconvert_exporter": "python",
   "pygments_lexer": "ipython2",
   "version": "2.7.11"
  }
 },
 "nbformat": 4,
 "nbformat_minor": 2
}
